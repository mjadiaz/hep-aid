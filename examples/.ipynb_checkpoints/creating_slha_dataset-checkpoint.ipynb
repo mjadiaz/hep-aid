{
 "cells": [
  {
   "cell_type": "code",
   "execution_count": 1,
   "id": "f5423180",
   "metadata": {},
   "outputs": [],
   "source": [
    "from hepaid.hepread import LesHouches, SLHA\n",
    "from hepaid.hepread import HiggsBoundsResults, HiggsSignalsResults\n",
    "from omegaconf import OmegaConf\n",
    "from rich import print"
   ]
  },
  {
   "cell_type": "code",
   "execution_count": 2,
   "id": "a7c27a2f",
   "metadata": {},
   "outputs": [],
   "source": [
    "file = 'blssm_param_card.dat'"
   ]
  },
  {
   "cell_type": "code",
   "execution_count": 3,
   "id": "22d5bbdf",
   "metadata": {},
   "outputs": [],
   "source": [
    "slha = SLHA(\n",
    "    file_path = file,\n",
    "    work_dir = '.',\n",
    "    model = 'BLSSM'\n",
    "    )"
   ]
  },
  {
   "cell_type": "code",
   "execution_count": 4,
   "id": "0d17d575",
   "metadata": {},
   "outputs": [
    {
     "data": {
      "text/html": [
       "<pre style=\"white-space:pre;overflow-x:auto;line-height:normal;font-family:Menlo,'DejaVu Sans Mono',consolas,'Courier New',monospace\"><span style=\"font-weight: bold\">[</span>\n",
       "    <span style=\"color: #008000; text-decoration-color: #008000\">'SPINFO'</span>,\n",
       "    <span style=\"color: #008000; text-decoration-color: #008000\">'MODSEL'</span>,\n",
       "    <span style=\"color: #008000; text-decoration-color: #008000\">'MINPAR'</span>,\n",
       "    <span style=\"color: #008000; text-decoration-color: #008000\">'EXTPAR'</span>,\n",
       "    <span style=\"color: #008000; text-decoration-color: #008000\">'GAUGEGUT'</span>,\n",
       "    <span style=\"color: #008000; text-decoration-color: #008000\">'SMINPUTS'</span>,\n",
       "    <span style=\"color: #008000; text-decoration-color: #008000\">'GAUGE'</span>,\n",
       "    <span style=\"color: #008000; text-decoration-color: #008000\">'BL'</span>,\n",
       "    <span style=\"color: #008000; text-decoration-color: #008000\">'IMBL'</span>,\n",
       "    <span style=\"color: #008000; text-decoration-color: #008000\">'HMIX'</span>,\n",
       "    <span style=\"color: #008000; text-decoration-color: #008000\">'IMHMIX'</span>,\n",
       "    <span style=\"color: #008000; text-decoration-color: #008000\">'MSOFT'</span>,\n",
       "    <span style=\"color: #008000; text-decoration-color: #008000\">'IMMSOFT'</span>,\n",
       "    <span style=\"color: #008000; text-decoration-color: #008000\">'PHASES'</span>,\n",
       "    <span style=\"color: #008000; text-decoration-color: #008000\">'IMPHASES'</span>,\n",
       "    <span style=\"color: #008000; text-decoration-color: #008000\">'ANGLES'</span>,\n",
       "    <span style=\"color: #008000; text-decoration-color: #008000\">'YD'</span>,\n",
       "    <span style=\"color: #008000; text-decoration-color: #008000\">'IMYD'</span>,\n",
       "    <span style=\"color: #008000; text-decoration-color: #008000\">'YE'</span>,\n",
       "    <span style=\"color: #008000; text-decoration-color: #008000\">'IMYE'</span>,\n",
       "    <span style=\"color: #008000; text-decoration-color: #008000\">'YU'</span>,\n",
       "    <span style=\"color: #008000; text-decoration-color: #008000\">'IMYU'</span>,\n",
       "    <span style=\"color: #008000; text-decoration-color: #008000\">'YX'</span>,\n",
       "    <span style=\"color: #008000; text-decoration-color: #008000\">'IMYX'</span>,\n",
       "    <span style=\"color: #008000; text-decoration-color: #008000\">'YV'</span>,\n",
       "    <span style=\"color: #008000; text-decoration-color: #008000\">'IMYV'</span>,\n",
       "    <span style=\"color: #008000; text-decoration-color: #008000\">'TD'</span>,\n",
       "    <span style=\"color: #008000; text-decoration-color: #008000\">'IMTD'</span>,\n",
       "    <span style=\"color: #008000; text-decoration-color: #008000\">'TE'</span>,\n",
       "    <span style=\"color: #008000; text-decoration-color: #008000\">'IMTE'</span>,\n",
       "    <span style=\"color: #008000; text-decoration-color: #008000\">'TU'</span>,\n",
       "    <span style=\"color: #008000; text-decoration-color: #008000\">'IMTU'</span>,\n",
       "    <span style=\"color: #008000; text-decoration-color: #008000\">'TX'</span>,\n",
       "    <span style=\"color: #008000; text-decoration-color: #008000\">'IMTX'</span>,\n",
       "    <span style=\"color: #008000; text-decoration-color: #008000\">'TV'</span>,\n",
       "    <span style=\"color: #008000; text-decoration-color: #008000\">'IMTV'</span>,\n",
       "    <span style=\"color: #008000; text-decoration-color: #008000\">'MSQ2'</span>,\n",
       "    <span style=\"color: #008000; text-decoration-color: #008000\">'IMMSQ2'</span>,\n",
       "    <span style=\"color: #008000; text-decoration-color: #008000\">'MSL2'</span>,\n",
       "    <span style=\"color: #008000; text-decoration-color: #008000\">'IMMSL2'</span>,\n",
       "    <span style=\"color: #008000; text-decoration-color: #008000\">'MSD2'</span>,\n",
       "    <span style=\"color: #008000; text-decoration-color: #008000\">'IMMSD2'</span>,\n",
       "    <span style=\"color: #008000; text-decoration-color: #008000\">'MSU2'</span>,\n",
       "    <span style=\"color: #008000; text-decoration-color: #008000\">'IMMSU2'</span>,\n",
       "    <span style=\"color: #008000; text-decoration-color: #008000\">'MSE2'</span>,\n",
       "    <span style=\"color: #008000; text-decoration-color: #008000\">'IMMSE2'</span>,\n",
       "    <span style=\"color: #008000; text-decoration-color: #008000\">'MV2'</span>,\n",
       "    <span style=\"color: #008000; text-decoration-color: #008000\">'IMMV2'</span>,\n",
       "    <span style=\"color: #008000; text-decoration-color: #008000\">'ADDPARS'</span>,\n",
       "    <span style=\"color: #008000; text-decoration-color: #008000\">'MASS'</span>,\n",
       "    <span style=\"color: #008000; text-decoration-color: #008000\">'DSQMIX'</span>,\n",
       "    <span style=\"color: #008000; text-decoration-color: #008000\">'IMDSQMIX'</span>,\n",
       "    <span style=\"color: #008000; text-decoration-color: #008000\">'USQMIX'</span>,\n",
       "    <span style=\"color: #008000; text-decoration-color: #008000\">'IMUSQMIX'</span>,\n",
       "    <span style=\"color: #008000; text-decoration-color: #008000\">'SELMIX'</span>,\n",
       "    <span style=\"color: #008000; text-decoration-color: #008000\">'IMSELMIX'</span>,\n",
       "    <span style=\"color: #008000; text-decoration-color: #008000\">'SNUMIXI'</span>,\n",
       "    <span style=\"color: #008000; text-decoration-color: #008000\">'IMSNUMIXI'</span>,\n",
       "    <span style=\"color: #008000; text-decoration-color: #008000\">'SNUMIXR'</span>,\n",
       "    <span style=\"color: #008000; text-decoration-color: #008000\">'IMSNUMIXR'</span>,\n",
       "    <span style=\"color: #008000; text-decoration-color: #008000\">'SCALARMIX'</span>,\n",
       "    <span style=\"color: #008000; text-decoration-color: #008000\">'PSEUDOSCALARMIX'</span>,\n",
       "    <span style=\"color: #008000; text-decoration-color: #008000\">'CHARGEMIX'</span>,\n",
       "    <span style=\"color: #008000; text-decoration-color: #008000\">'NMIX'</span>,\n",
       "    <span style=\"color: #008000; text-decoration-color: #008000\">'IMNMIX'</span>,\n",
       "    <span style=\"color: #008000; text-decoration-color: #008000\">'UMIX'</span>,\n",
       "    <span style=\"color: #008000; text-decoration-color: #008000\">'IMUMIX'</span>,\n",
       "    <span style=\"color: #008000; text-decoration-color: #008000\">'VMIX'</span>,\n",
       "    <span style=\"color: #008000; text-decoration-color: #008000\">'IMVMIX'</span>,\n",
       "    <span style=\"color: #008000; text-decoration-color: #008000\">'UVMIX'</span>,\n",
       "    <span style=\"color: #008000; text-decoration-color: #008000\">'IMUVMIX'</span>,\n",
       "    <span style=\"color: #008000; text-decoration-color: #008000\">'UELMIX'</span>,\n",
       "    <span style=\"color: #008000; text-decoration-color: #008000\">'IMUELMIX'</span>,\n",
       "    <span style=\"color: #008000; text-decoration-color: #008000\">'UERMIX'</span>,\n",
       "    <span style=\"color: #008000; text-decoration-color: #008000\">'IMUERMIX'</span>,\n",
       "    <span style=\"color: #008000; text-decoration-color: #008000\">'UDLMIX'</span>,\n",
       "    <span style=\"color: #008000; text-decoration-color: #008000\">'IMUDLMIX'</span>,\n",
       "    <span style=\"color: #008000; text-decoration-color: #008000\">'UDRMIX'</span>,\n",
       "    <span style=\"color: #008000; text-decoration-color: #008000\">'IMUDRMIX'</span>,\n",
       "    <span style=\"color: #008000; text-decoration-color: #008000\">'UULMIX'</span>,\n",
       "    <span style=\"color: #008000; text-decoration-color: #008000\">'IMUULMIX'</span>,\n",
       "    <span style=\"color: #008000; text-decoration-color: #008000\">'UURMIX'</span>,\n",
       "    <span style=\"color: #008000; text-decoration-color: #008000\">'IMUURMIX'</span>,\n",
       "    <span style=\"color: #008000; text-decoration-color: #008000\">'SPHENO'</span>,\n",
       "    <span style=\"color: #008000; text-decoration-color: #008000\">'HIGGSLHC7'</span>,\n",
       "    <span style=\"color: #008000; text-decoration-color: #008000\">'HIGGSLHC8'</span>,\n",
       "    <span style=\"color: #008000; text-decoration-color: #008000\">'HIGGSLHC13'</span>,\n",
       "    <span style=\"color: #008000; text-decoration-color: #008000\">'HIGGSLHC14'</span>,\n",
       "    <span style=\"color: #008000; text-decoration-color: #008000\">'HIGGSFCC100'</span>,\n",
       "    <span style=\"color: #008000; text-decoration-color: #008000\">'EFFHIGGSCOUPLINGS'</span>,\n",
       "    <span style=\"color: #008000; text-decoration-color: #008000\">'SPHENOLOWENERGY'</span>,\n",
       "    <span style=\"color: #008000; text-decoration-color: #008000\">'FLAVORKITQFV'</span>,\n",
       "    <span style=\"color: #008000; text-decoration-color: #008000\">'FLAVORKITLFV'</span>,\n",
       "    <span style=\"color: #008000; text-decoration-color: #008000\">'FWCOEF'</span>,\n",
       "    <span style=\"color: #008000; text-decoration-color: #008000\">'IMFWCOEF'</span>,\n",
       "    <span style=\"color: #008000; text-decoration-color: #008000\">'DECAY 1000001'</span>,\n",
       "    <span style=\"color: #008000; text-decoration-color: #008000\">'DECAY 1000003'</span>,\n",
       "    <span style=\"color: #008000; text-decoration-color: #008000\">'DECAY 1000005'</span>,\n",
       "    <span style=\"color: #008000; text-decoration-color: #008000\">'DECAY 2000001'</span>,\n",
       "    <span style=\"color: #008000; text-decoration-color: #008000\">'DECAY 2000003'</span>,\n",
       "    <span style=\"color: #008000; text-decoration-color: #008000\">'DECAY 2000005'</span>,\n",
       "    <span style=\"color: #008000; text-decoration-color: #008000\">'DECAY 1000002'</span>,\n",
       "    <span style=\"color: #008000; text-decoration-color: #008000\">'DECAY 1000004'</span>,\n",
       "    <span style=\"color: #008000; text-decoration-color: #008000\">'DECAY 1000006'</span>,\n",
       "    <span style=\"color: #008000; text-decoration-color: #008000\">'DECAY 2000002'</span>,\n",
       "    <span style=\"color: #008000; text-decoration-color: #008000\">'DECAY 2000004'</span>,\n",
       "    <span style=\"color: #008000; text-decoration-color: #008000\">'DECAY 2000006'</span>,\n",
       "    <span style=\"color: #008000; text-decoration-color: #008000\">'DECAY 1000011'</span>,\n",
       "    <span style=\"color: #008000; text-decoration-color: #008000\">'DECAY 1000013'</span>,\n",
       "    <span style=\"color: #008000; text-decoration-color: #008000\">'DECAY 1000015'</span>,\n",
       "    <span style=\"color: #008000; text-decoration-color: #008000\">'DECAY 2000011'</span>,\n",
       "    <span style=\"color: #008000; text-decoration-color: #008000\">'DECAY 2000013'</span>,\n",
       "    <span style=\"color: #008000; text-decoration-color: #008000\">'DECAY 2000015'</span>,\n",
       "    <span style=\"color: #008000; text-decoration-color: #008000\">'DECAY 1000012'</span>,\n",
       "    <span style=\"color: #008000; text-decoration-color: #008000\">'DECAY 1000014'</span>,\n",
       "    <span style=\"color: #008000; text-decoration-color: #008000\">'DECAY 1000016'</span>,\n",
       "    <span style=\"color: #008000; text-decoration-color: #008000\">'DECAY 2000012'</span>,\n",
       "    <span style=\"color: #008000; text-decoration-color: #008000\">'DECAY 2000014'</span>,\n",
       "    <span style=\"color: #008000; text-decoration-color: #008000\">'DECAY 2000016'</span>,\n",
       "    <span style=\"color: #008000; text-decoration-color: #008000\">'DECAY 4000012'</span>,\n",
       "    <span style=\"color: #008000; text-decoration-color: #008000\">'DECAY 4000014'</span>,\n",
       "    <span style=\"color: #008000; text-decoration-color: #008000\">'DECAY 4000016'</span>,\n",
       "    <span style=\"color: #008000; text-decoration-color: #008000\">'DECAY 5000012'</span>,\n",
       "    <span style=\"color: #008000; text-decoration-color: #008000\">'DECAY 5000014'</span>,\n",
       "    <span style=\"color: #008000; text-decoration-color: #008000\">'DECAY 5000016'</span>,\n",
       "    <span style=\"color: #008000; text-decoration-color: #008000\">'DECAY 25'</span>,\n",
       "    <span style=\"color: #008000; text-decoration-color: #008000\">'DECAY 35'</span>,\n",
       "    <span style=\"color: #008000; text-decoration-color: #008000\">'DECAY 9900025'</span>,\n",
       "    <span style=\"color: #008000; text-decoration-color: #008000\">'DECAY 9900035'</span>,\n",
       "    <span style=\"color: #008000; text-decoration-color: #008000\">'DECAY 36'</span>,\n",
       "    <span style=\"color: #008000; text-decoration-color: #008000\">'DECAY 9900036'</span>,\n",
       "    <span style=\"color: #008000; text-decoration-color: #008000\">'DECAY 37'</span>,\n",
       "    <span style=\"color: #008000; text-decoration-color: #008000\">'DECAY 31'</span>,\n",
       "    <span style=\"color: #008000; text-decoration-color: #008000\">'DECAY 1000021'</span>,\n",
       "    <span style=\"color: #008000; text-decoration-color: #008000\">'DECAY 1000024'</span>,\n",
       "    <span style=\"color: #008000; text-decoration-color: #008000\">'DECAY 1000037'</span>,\n",
       "    <span style=\"color: #008000; text-decoration-color: #008000\">'DECAY 1000022'</span>,\n",
       "    <span style=\"color: #008000; text-decoration-color: #008000\">'DECAY 1000023'</span>,\n",
       "    <span style=\"color: #008000; text-decoration-color: #008000\">'DECAY 1000025'</span>,\n",
       "    <span style=\"color: #008000; text-decoration-color: #008000\">'DECAY 1000035'</span>,\n",
       "    <span style=\"color: #008000; text-decoration-color: #008000\">'DECAY 1000032'</span>,\n",
       "    <span style=\"color: #008000; text-decoration-color: #008000\">'DECAY 1000036'</span>,\n",
       "    <span style=\"color: #008000; text-decoration-color: #008000\">'DECAY 1000039'</span>,\n",
       "    <span style=\"color: #008000; text-decoration-color: #008000\">'DECAY 2'</span>,\n",
       "    <span style=\"color: #008000; text-decoration-color: #008000\">'DECAY 4'</span>,\n",
       "    <span style=\"color: #008000; text-decoration-color: #008000\">'DECAY 6'</span>,\n",
       "    <span style=\"color: #008000; text-decoration-color: #008000\">'DECAY 12'</span>,\n",
       "    <span style=\"color: #008000; text-decoration-color: #008000\">'DECAY 14'</span>,\n",
       "    <span style=\"color: #008000; text-decoration-color: #008000\">'DECAY 16'</span>,\n",
       "    <span style=\"color: #008000; text-decoration-color: #008000\">'DECAY 112'</span>,\n",
       "    <span style=\"color: #008000; text-decoration-color: #008000\">'DECAY 114'</span>,\n",
       "    <span style=\"color: #008000; text-decoration-color: #008000\">'DECAY 116'</span>,\n",
       "    <span style=\"color: #008000; text-decoration-color: #008000\">'DECAY 21'</span>,\n",
       "    <span style=\"color: #008000; text-decoration-color: #008000\">'DECAY 22'</span>,\n",
       "    <span style=\"color: #008000; text-decoration-color: #008000\">'DECAY 23'</span>,\n",
       "    <span style=\"color: #008000; text-decoration-color: #008000\">'DECAY 24'</span>,\n",
       "    <span style=\"color: #008000; text-decoration-color: #008000\">'DECAY 11'</span>,\n",
       "    <span style=\"color: #008000; text-decoration-color: #008000\">'DECAY 13'</span>,\n",
       "    <span style=\"color: #008000; text-decoration-color: #008000\">'DECAY 15'</span>,\n",
       "    <span style=\"color: #008000; text-decoration-color: #008000\">'DECAY 1'</span>,\n",
       "    <span style=\"color: #008000; text-decoration-color: #008000\">'DECAY 3'</span>,\n",
       "    <span style=\"color: #008000; text-decoration-color: #008000\">'DECAY 5'</span>\n",
       "<span style=\"font-weight: bold\">]</span>\n",
       "</pre>\n"
      ],
      "text/plain": [
       "\u001b[1m[\u001b[0m\n",
       "    \u001b[32m'SPINFO'\u001b[0m,\n",
       "    \u001b[32m'MODSEL'\u001b[0m,\n",
       "    \u001b[32m'MINPAR'\u001b[0m,\n",
       "    \u001b[32m'EXTPAR'\u001b[0m,\n",
       "    \u001b[32m'GAUGEGUT'\u001b[0m,\n",
       "    \u001b[32m'SMINPUTS'\u001b[0m,\n",
       "    \u001b[32m'GAUGE'\u001b[0m,\n",
       "    \u001b[32m'BL'\u001b[0m,\n",
       "    \u001b[32m'IMBL'\u001b[0m,\n",
       "    \u001b[32m'HMIX'\u001b[0m,\n",
       "    \u001b[32m'IMHMIX'\u001b[0m,\n",
       "    \u001b[32m'MSOFT'\u001b[0m,\n",
       "    \u001b[32m'IMMSOFT'\u001b[0m,\n",
       "    \u001b[32m'PHASES'\u001b[0m,\n",
       "    \u001b[32m'IMPHASES'\u001b[0m,\n",
       "    \u001b[32m'ANGLES'\u001b[0m,\n",
       "    \u001b[32m'YD'\u001b[0m,\n",
       "    \u001b[32m'IMYD'\u001b[0m,\n",
       "    \u001b[32m'YE'\u001b[0m,\n",
       "    \u001b[32m'IMYE'\u001b[0m,\n",
       "    \u001b[32m'YU'\u001b[0m,\n",
       "    \u001b[32m'IMYU'\u001b[0m,\n",
       "    \u001b[32m'YX'\u001b[0m,\n",
       "    \u001b[32m'IMYX'\u001b[0m,\n",
       "    \u001b[32m'YV'\u001b[0m,\n",
       "    \u001b[32m'IMYV'\u001b[0m,\n",
       "    \u001b[32m'TD'\u001b[0m,\n",
       "    \u001b[32m'IMTD'\u001b[0m,\n",
       "    \u001b[32m'TE'\u001b[0m,\n",
       "    \u001b[32m'IMTE'\u001b[0m,\n",
       "    \u001b[32m'TU'\u001b[0m,\n",
       "    \u001b[32m'IMTU'\u001b[0m,\n",
       "    \u001b[32m'TX'\u001b[0m,\n",
       "    \u001b[32m'IMTX'\u001b[0m,\n",
       "    \u001b[32m'TV'\u001b[0m,\n",
       "    \u001b[32m'IMTV'\u001b[0m,\n",
       "    \u001b[32m'MSQ2'\u001b[0m,\n",
       "    \u001b[32m'IMMSQ2'\u001b[0m,\n",
       "    \u001b[32m'MSL2'\u001b[0m,\n",
       "    \u001b[32m'IMMSL2'\u001b[0m,\n",
       "    \u001b[32m'MSD2'\u001b[0m,\n",
       "    \u001b[32m'IMMSD2'\u001b[0m,\n",
       "    \u001b[32m'MSU2'\u001b[0m,\n",
       "    \u001b[32m'IMMSU2'\u001b[0m,\n",
       "    \u001b[32m'MSE2'\u001b[0m,\n",
       "    \u001b[32m'IMMSE2'\u001b[0m,\n",
       "    \u001b[32m'MV2'\u001b[0m,\n",
       "    \u001b[32m'IMMV2'\u001b[0m,\n",
       "    \u001b[32m'ADDPARS'\u001b[0m,\n",
       "    \u001b[32m'MASS'\u001b[0m,\n",
       "    \u001b[32m'DSQMIX'\u001b[0m,\n",
       "    \u001b[32m'IMDSQMIX'\u001b[0m,\n",
       "    \u001b[32m'USQMIX'\u001b[0m,\n",
       "    \u001b[32m'IMUSQMIX'\u001b[0m,\n",
       "    \u001b[32m'SELMIX'\u001b[0m,\n",
       "    \u001b[32m'IMSELMIX'\u001b[0m,\n",
       "    \u001b[32m'SNUMIXI'\u001b[0m,\n",
       "    \u001b[32m'IMSNUMIXI'\u001b[0m,\n",
       "    \u001b[32m'SNUMIXR'\u001b[0m,\n",
       "    \u001b[32m'IMSNUMIXR'\u001b[0m,\n",
       "    \u001b[32m'SCALARMIX'\u001b[0m,\n",
       "    \u001b[32m'PSEUDOSCALARMIX'\u001b[0m,\n",
       "    \u001b[32m'CHARGEMIX'\u001b[0m,\n",
       "    \u001b[32m'NMIX'\u001b[0m,\n",
       "    \u001b[32m'IMNMIX'\u001b[0m,\n",
       "    \u001b[32m'UMIX'\u001b[0m,\n",
       "    \u001b[32m'IMUMIX'\u001b[0m,\n",
       "    \u001b[32m'VMIX'\u001b[0m,\n",
       "    \u001b[32m'IMVMIX'\u001b[0m,\n",
       "    \u001b[32m'UVMIX'\u001b[0m,\n",
       "    \u001b[32m'IMUVMIX'\u001b[0m,\n",
       "    \u001b[32m'UELMIX'\u001b[0m,\n",
       "    \u001b[32m'IMUELMIX'\u001b[0m,\n",
       "    \u001b[32m'UERMIX'\u001b[0m,\n",
       "    \u001b[32m'IMUERMIX'\u001b[0m,\n",
       "    \u001b[32m'UDLMIX'\u001b[0m,\n",
       "    \u001b[32m'IMUDLMIX'\u001b[0m,\n",
       "    \u001b[32m'UDRMIX'\u001b[0m,\n",
       "    \u001b[32m'IMUDRMIX'\u001b[0m,\n",
       "    \u001b[32m'UULMIX'\u001b[0m,\n",
       "    \u001b[32m'IMUULMIX'\u001b[0m,\n",
       "    \u001b[32m'UURMIX'\u001b[0m,\n",
       "    \u001b[32m'IMUURMIX'\u001b[0m,\n",
       "    \u001b[32m'SPHENO'\u001b[0m,\n",
       "    \u001b[32m'HIGGSLHC7'\u001b[0m,\n",
       "    \u001b[32m'HIGGSLHC8'\u001b[0m,\n",
       "    \u001b[32m'HIGGSLHC13'\u001b[0m,\n",
       "    \u001b[32m'HIGGSLHC14'\u001b[0m,\n",
       "    \u001b[32m'HIGGSFCC100'\u001b[0m,\n",
       "    \u001b[32m'EFFHIGGSCOUPLINGS'\u001b[0m,\n",
       "    \u001b[32m'SPHENOLOWENERGY'\u001b[0m,\n",
       "    \u001b[32m'FLAVORKITQFV'\u001b[0m,\n",
       "    \u001b[32m'FLAVORKITLFV'\u001b[0m,\n",
       "    \u001b[32m'FWCOEF'\u001b[0m,\n",
       "    \u001b[32m'IMFWCOEF'\u001b[0m,\n",
       "    \u001b[32m'DECAY 1000001'\u001b[0m,\n",
       "    \u001b[32m'DECAY 1000003'\u001b[0m,\n",
       "    \u001b[32m'DECAY 1000005'\u001b[0m,\n",
       "    \u001b[32m'DECAY 2000001'\u001b[0m,\n",
       "    \u001b[32m'DECAY 2000003'\u001b[0m,\n",
       "    \u001b[32m'DECAY 2000005'\u001b[0m,\n",
       "    \u001b[32m'DECAY 1000002'\u001b[0m,\n",
       "    \u001b[32m'DECAY 1000004'\u001b[0m,\n",
       "    \u001b[32m'DECAY 1000006'\u001b[0m,\n",
       "    \u001b[32m'DECAY 2000002'\u001b[0m,\n",
       "    \u001b[32m'DECAY 2000004'\u001b[0m,\n",
       "    \u001b[32m'DECAY 2000006'\u001b[0m,\n",
       "    \u001b[32m'DECAY 1000011'\u001b[0m,\n",
       "    \u001b[32m'DECAY 1000013'\u001b[0m,\n",
       "    \u001b[32m'DECAY 1000015'\u001b[0m,\n",
       "    \u001b[32m'DECAY 2000011'\u001b[0m,\n",
       "    \u001b[32m'DECAY 2000013'\u001b[0m,\n",
       "    \u001b[32m'DECAY 2000015'\u001b[0m,\n",
       "    \u001b[32m'DECAY 1000012'\u001b[0m,\n",
       "    \u001b[32m'DECAY 1000014'\u001b[0m,\n",
       "    \u001b[32m'DECAY 1000016'\u001b[0m,\n",
       "    \u001b[32m'DECAY 2000012'\u001b[0m,\n",
       "    \u001b[32m'DECAY 2000014'\u001b[0m,\n",
       "    \u001b[32m'DECAY 2000016'\u001b[0m,\n",
       "    \u001b[32m'DECAY 4000012'\u001b[0m,\n",
       "    \u001b[32m'DECAY 4000014'\u001b[0m,\n",
       "    \u001b[32m'DECAY 4000016'\u001b[0m,\n",
       "    \u001b[32m'DECAY 5000012'\u001b[0m,\n",
       "    \u001b[32m'DECAY 5000014'\u001b[0m,\n",
       "    \u001b[32m'DECAY 5000016'\u001b[0m,\n",
       "    \u001b[32m'DECAY 25'\u001b[0m,\n",
       "    \u001b[32m'DECAY 35'\u001b[0m,\n",
       "    \u001b[32m'DECAY 9900025'\u001b[0m,\n",
       "    \u001b[32m'DECAY 9900035'\u001b[0m,\n",
       "    \u001b[32m'DECAY 36'\u001b[0m,\n",
       "    \u001b[32m'DECAY 9900036'\u001b[0m,\n",
       "    \u001b[32m'DECAY 37'\u001b[0m,\n",
       "    \u001b[32m'DECAY 31'\u001b[0m,\n",
       "    \u001b[32m'DECAY 1000021'\u001b[0m,\n",
       "    \u001b[32m'DECAY 1000024'\u001b[0m,\n",
       "    \u001b[32m'DECAY 1000037'\u001b[0m,\n",
       "    \u001b[32m'DECAY 1000022'\u001b[0m,\n",
       "    \u001b[32m'DECAY 1000023'\u001b[0m,\n",
       "    \u001b[32m'DECAY 1000025'\u001b[0m,\n",
       "    \u001b[32m'DECAY 1000035'\u001b[0m,\n",
       "    \u001b[32m'DECAY 1000032'\u001b[0m,\n",
       "    \u001b[32m'DECAY 1000036'\u001b[0m,\n",
       "    \u001b[32m'DECAY 1000039'\u001b[0m,\n",
       "    \u001b[32m'DECAY 2'\u001b[0m,\n",
       "    \u001b[32m'DECAY 4'\u001b[0m,\n",
       "    \u001b[32m'DECAY 6'\u001b[0m,\n",
       "    \u001b[32m'DECAY 12'\u001b[0m,\n",
       "    \u001b[32m'DECAY 14'\u001b[0m,\n",
       "    \u001b[32m'DECAY 16'\u001b[0m,\n",
       "    \u001b[32m'DECAY 112'\u001b[0m,\n",
       "    \u001b[32m'DECAY 114'\u001b[0m,\n",
       "    \u001b[32m'DECAY 116'\u001b[0m,\n",
       "    \u001b[32m'DECAY 21'\u001b[0m,\n",
       "    \u001b[32m'DECAY 22'\u001b[0m,\n",
       "    \u001b[32m'DECAY 23'\u001b[0m,\n",
       "    \u001b[32m'DECAY 24'\u001b[0m,\n",
       "    \u001b[32m'DECAY 11'\u001b[0m,\n",
       "    \u001b[32m'DECAY 13'\u001b[0m,\n",
       "    \u001b[32m'DECAY 15'\u001b[0m,\n",
       "    \u001b[32m'DECAY 1'\u001b[0m,\n",
       "    \u001b[32m'DECAY 3'\u001b[0m,\n",
       "    \u001b[32m'DECAY 5'\u001b[0m\n",
       "\u001b[1m]\u001b[0m\n"
      ]
     },
     "metadata": {},
     "output_type": "display_data"
    }
   ],
   "source": [
    "print(slha.block_list)"
   ]
  },
  {
   "cell_type": "code",
   "execution_count": 5,
   "id": "45b44a02",
   "metadata": {},
   "outputs": [
    {
     "data": {
      "text/html": [
       "<pre style=\"white-space:pre;overflow-x:auto;line-height:normal;font-family:Menlo,'DejaVu Sans Mono',consolas,'Courier New',monospace\">BLOCK     SPINFO   # PROGRAM INFORMATION\n",
       "          <span style=\"color: #008080; text-decoration-color: #008080; font-weight: bold\">1</span> SPhenoSARAH     # spectrum calculator\n",
       "          <span style=\"color: #008080; text-decoration-color: #008080; font-weight: bold\">2</span>      v4.<span style=\"color: #008080; text-decoration-color: #008080; font-weight: bold\">0.5</span>     # version number of SPheno\n",
       "          <span style=\"color: #008080; text-decoration-color: #008080; font-weight: bold\">9</span>      <span style=\"color: #008080; text-decoration-color: #008080; font-weight: bold\">4.15</span>.<span style=\"color: #008080; text-decoration-color: #008080; font-weight: bold\">1</span>     # version number of SARAH\n",
       "\n",
       "</pre>\n"
      ],
      "text/plain": [
       "BLOCK     SPINFO   # PROGRAM INFORMATION\n",
       "          \u001b[1;36m1\u001b[0m SPhenoSARAH     # spectrum calculator\n",
       "          \u001b[1;36m2\u001b[0m      v4.\u001b[1;36m0.5\u001b[0m     # version number of SPheno\n",
       "          \u001b[1;36m9\u001b[0m      \u001b[1;36m4.15\u001b[0m.\u001b[1;36m1\u001b[0m     # version number of SARAH\n",
       "\n"
      ]
     },
     "metadata": {},
     "output_type": "display_data"
    }
   ],
   "source": [
    "print(slha.block('SPINFO'))"
   ]
  },
  {
   "cell_type": "code",
   "execution_count": 6,
   "id": "ad561eb8",
   "metadata": {},
   "outputs": [
    {
     "data": {
      "text/html": [
       "<pre style=\"white-space:pre;overflow-x:auto;line-height:normal;font-family:Menlo,'DejaVu Sans Mono',consolas,'Courier New',monospace\"><span style=\"font-weight: bold\">[</span>\n",
       "         <span style=\"color: #008080; text-decoration-color: #008080; font-weight: bold\">2.</span>44856968E-<span style=\"color: #008080; text-decoration-color: #008080; font-weight: bold\">03</span>    <span style=\"color: #008080; text-decoration-color: #008080; font-weight: bold\">2</span>           <span style=\"color: #008080; text-decoration-color: #008080; font-weight: bold\">22</span>         <span style=\"color: #008080; text-decoration-color: #008080; font-weight: bold\">22</span>    # <span style=\"color: #800080; text-decoration-color: #800080; font-weight: bold\">BR</span><span style=\"font-weight: bold\">(</span>hh_1 -&gt; VP VP <span style=\"font-weight: bold\">)</span>,\n",
       "         <span style=\"color: #008080; text-decoration-color: #008080; font-weight: bold\">8.</span>80776731E-<span style=\"color: #008080; text-decoration-color: #008080; font-weight: bold\">02</span>    <span style=\"color: #008080; text-decoration-color: #008080; font-weight: bold\">2</span>           <span style=\"color: #008080; text-decoration-color: #008080; font-weight: bold\">21</span>         <span style=\"color: #008080; text-decoration-color: #008080; font-weight: bold\">21</span>    # <span style=\"color: #800080; text-decoration-color: #800080; font-weight: bold\">BR</span><span style=\"font-weight: bold\">(</span>hh_1 -&gt; VG VG <span style=\"font-weight: bold\">)</span>,\n",
       "         <span style=\"color: #008080; text-decoration-color: #008080; font-weight: bold\">1.</span>30807790E-<span style=\"color: #008080; text-decoration-color: #008080; font-weight: bold\">02</span>    <span style=\"color: #008080; text-decoration-color: #008080; font-weight: bold\">2</span>           <span style=\"color: #008080; text-decoration-color: #008080; font-weight: bold\">23</span>         <span style=\"color: #008080; text-decoration-color: #008080; font-weight: bold\">23</span>    # <span style=\"color: #800080; text-decoration-color: #800080; font-weight: bold\">BR</span><span style=\"font-weight: bold\">(</span>hh_1 -&gt; VZ VZ <span style=\"font-weight: bold\">)</span>,\n",
       "         <span style=\"color: #008080; text-decoration-color: #008080; font-weight: bold\">1.</span>41770707E-<span style=\"color: #008080; text-decoration-color: #008080; font-weight: bold\">01</span>    <span style=\"color: #008080; text-decoration-color: #008080; font-weight: bold\">2</span>           <span style=\"color: #008080; text-decoration-color: #008080; font-weight: bold\">24</span>        <span style=\"color: #008080; text-decoration-color: #008080; font-weight: bold\">-24</span>    # <span style=\"color: #800080; text-decoration-color: #800080; font-weight: bold\">BR</span><span style=\"font-weight: bold\">(</span>hh_1 -&gt; VWm^* VWm_virt <span style=\"font-weight: bold\">)</span>,\n",
       "         <span style=\"color: #008080; text-decoration-color: #008080; font-weight: bold\">2.</span>42288224E-<span style=\"color: #008080; text-decoration-color: #008080; font-weight: bold\">04</span>    <span style=\"color: #008080; text-decoration-color: #008080; font-weight: bold\">2</span>           <span style=\"color: #008080; text-decoration-color: #008080; font-weight: bold\">-3</span>          <span style=\"color: #008080; text-decoration-color: #008080; font-weight: bold\">3</span>    # <span style=\"color: #800080; text-decoration-color: #800080; font-weight: bold\">BR</span><span style=\"font-weight: bold\">(</span>hh_1 -&gt; Fd_2^* Fd_2 <span style=\"font-weight: bold\">)</span>,\n",
       "         <span style=\"color: #008080; text-decoration-color: #008080; font-weight: bold\">6.</span>48814271E-<span style=\"color: #008080; text-decoration-color: #008080; font-weight: bold\">01</span>    <span style=\"color: #008080; text-decoration-color: #008080; font-weight: bold\">2</span>           <span style=\"color: #008080; text-decoration-color: #008080; font-weight: bold\">-5</span>          <span style=\"color: #008080; text-decoration-color: #008080; font-weight: bold\">5</span>    # <span style=\"color: #800080; text-decoration-color: #800080; font-weight: bold\">BR</span><span style=\"font-weight: bold\">(</span>hh_1 -&gt; Fd_3^* Fd_3 <span style=\"font-weight: bold\">)</span>,\n",
       "         <span style=\"color: #008080; text-decoration-color: #008080; font-weight: bold\">2.</span>59082666E-<span style=\"color: #008080; text-decoration-color: #008080; font-weight: bold\">04</span>    <span style=\"color: #008080; text-decoration-color: #008080; font-weight: bold\">2</span>          <span style=\"color: #008080; text-decoration-color: #008080; font-weight: bold\">-13</span>         <span style=\"color: #008080; text-decoration-color: #008080; font-weight: bold\">13</span>    # <span style=\"color: #800080; text-decoration-color: #800080; font-weight: bold\">BR</span><span style=\"font-weight: bold\">(</span>hh_1 -&gt; Fe_2^* Fe_2 <span style=\"font-weight: bold\">)</span>,\n",
       "         <span style=\"color: #008080; text-decoration-color: #008080; font-weight: bold\">7.</span>47769957E-<span style=\"color: #008080; text-decoration-color: #008080; font-weight: bold\">02</span>    <span style=\"color: #008080; text-decoration-color: #008080; font-weight: bold\">2</span>          <span style=\"color: #008080; text-decoration-color: #008080; font-weight: bold\">-15</span>         <span style=\"color: #008080; text-decoration-color: #008080; font-weight: bold\">15</span>    # <span style=\"color: #800080; text-decoration-color: #800080; font-weight: bold\">BR</span><span style=\"font-weight: bold\">(</span>hh_1 -&gt; Fe_3^* Fe_3 <span style=\"font-weight: bold\">)</span>,\n",
       "         <span style=\"color: #008080; text-decoration-color: #008080; font-weight: bold\">3.</span>05288251E-<span style=\"color: #008080; text-decoration-color: #008080; font-weight: bold\">02</span>    <span style=\"color: #008080; text-decoration-color: #008080; font-weight: bold\">2</span>           <span style=\"color: #008080; text-decoration-color: #008080; font-weight: bold\">-4</span>          <span style=\"color: #008080; text-decoration-color: #008080; font-weight: bold\">4</span>    # <span style=\"color: #800080; text-decoration-color: #800080; font-weight: bold\">BR</span><span style=\"font-weight: bold\">(</span>hh_1 -&gt; Fu_2^* Fu_2 <span style=\"font-weight: bold\">)</span>\n",
       "<span style=\"font-weight: bold\">]</span>\n",
       "</pre>\n"
      ],
      "text/plain": [
       "\u001b[1m[\u001b[0m\n",
       "         \u001b[1;36m2.\u001b[0m44856968E-\u001b[1;36m03\u001b[0m    \u001b[1;36m2\u001b[0m           \u001b[1;36m22\u001b[0m         \u001b[1;36m22\u001b[0m    # \u001b[1;35mBR\u001b[0m\u001b[1m(\u001b[0mhh_1 -> VP VP \u001b[1m)\u001b[0m,\n",
       "         \u001b[1;36m8.\u001b[0m80776731E-\u001b[1;36m02\u001b[0m    \u001b[1;36m2\u001b[0m           \u001b[1;36m21\u001b[0m         \u001b[1;36m21\u001b[0m    # \u001b[1;35mBR\u001b[0m\u001b[1m(\u001b[0mhh_1 -> VG VG \u001b[1m)\u001b[0m,\n",
       "         \u001b[1;36m1.\u001b[0m30807790E-\u001b[1;36m02\u001b[0m    \u001b[1;36m2\u001b[0m           \u001b[1;36m23\u001b[0m         \u001b[1;36m23\u001b[0m    # \u001b[1;35mBR\u001b[0m\u001b[1m(\u001b[0mhh_1 -> VZ VZ \u001b[1m)\u001b[0m,\n",
       "         \u001b[1;36m1.\u001b[0m41770707E-\u001b[1;36m01\u001b[0m    \u001b[1;36m2\u001b[0m           \u001b[1;36m24\u001b[0m        \u001b[1;36m-24\u001b[0m    # \u001b[1;35mBR\u001b[0m\u001b[1m(\u001b[0mhh_1 -> VWm^* VWm_virt \u001b[1m)\u001b[0m,\n",
       "         \u001b[1;36m2.\u001b[0m42288224E-\u001b[1;36m04\u001b[0m    \u001b[1;36m2\u001b[0m           \u001b[1;36m-3\u001b[0m          \u001b[1;36m3\u001b[0m    # \u001b[1;35mBR\u001b[0m\u001b[1m(\u001b[0mhh_1 -> Fd_2^* Fd_2 \u001b[1m)\u001b[0m,\n",
       "         \u001b[1;36m6.\u001b[0m48814271E-\u001b[1;36m01\u001b[0m    \u001b[1;36m2\u001b[0m           \u001b[1;36m-5\u001b[0m          \u001b[1;36m5\u001b[0m    # \u001b[1;35mBR\u001b[0m\u001b[1m(\u001b[0mhh_1 -> Fd_3^* Fd_3 \u001b[1m)\u001b[0m,\n",
       "         \u001b[1;36m2.\u001b[0m59082666E-\u001b[1;36m04\u001b[0m    \u001b[1;36m2\u001b[0m          \u001b[1;36m-13\u001b[0m         \u001b[1;36m13\u001b[0m    # \u001b[1;35mBR\u001b[0m\u001b[1m(\u001b[0mhh_1 -> Fe_2^* Fe_2 \u001b[1m)\u001b[0m,\n",
       "         \u001b[1;36m7.\u001b[0m47769957E-\u001b[1;36m02\u001b[0m    \u001b[1;36m2\u001b[0m          \u001b[1;36m-15\u001b[0m         \u001b[1;36m15\u001b[0m    # \u001b[1;35mBR\u001b[0m\u001b[1m(\u001b[0mhh_1 -> Fe_3^* Fe_3 \u001b[1m)\u001b[0m,\n",
       "         \u001b[1;36m3.\u001b[0m05288251E-\u001b[1;36m02\u001b[0m    \u001b[1;36m2\u001b[0m           \u001b[1;36m-4\u001b[0m          \u001b[1;36m4\u001b[0m    # \u001b[1;35mBR\u001b[0m\u001b[1m(\u001b[0mhh_1 -> Fu_2^* Fu_2 \u001b[1m)\u001b[0m\n",
       "\u001b[1m]\u001b[0m\n"
      ]
     },
     "metadata": {},
     "output_type": "display_data"
    }
   ],
   "source": [
    "print(slha.block('DECAY 25').block_body)"
   ]
  },
  {
   "cell_type": "code",
   "execution_count": 7,
   "id": "0d89848a",
   "metadata": {},
   "outputs": [],
   "source": [
    "from hepaid.utils import slha2dict\n",
    "from hepaid.utils import merge_slha_files"
   ]
  },
  {
   "cell_type": "code",
   "execution_count": 8,
   "id": "118341b8",
   "metadata": {},
   "outputs": [
    {
     "data": {
      "text/html": [
       "<pre style=\"white-space:pre;overflow-x:auto;line-height:normal;font-family:Menlo,'DejaVu Sans Mono',consolas,'Courier New',monospace\"><span style=\"color: #800080; text-decoration-color: #800080; font-weight: bold\">dict_keys</span><span style=\"font-weight: bold\">([</span><span style=\"color: #008000; text-decoration-color: #008000\">'0'</span>, <span style=\"color: #008000; text-decoration-color: #008000\">'1'</span>, <span style=\"color: #008000; text-decoration-color: #008000\">'2'</span>, <span style=\"color: #008000; text-decoration-color: #008000\">'3'</span><span style=\"font-weight: bold\">])</span>\n",
       "</pre>\n"
      ],
      "text/plain": [
       "\u001b[1;35mdict_keys\u001b[0m\u001b[1m(\u001b[0m\u001b[1m[\u001b[0m\u001b[32m'0'\u001b[0m, \u001b[32m'1'\u001b[0m, \u001b[32m'2'\u001b[0m, \u001b[32m'3'\u001b[0m\u001b[1m]\u001b[0m\u001b[1m)\u001b[0m\n"
      ]
     },
     "metadata": {},
     "output_type": "display_data"
    }
   ],
   "source": [
    "slha_dict = slha2dict(slha)\n",
    "slha_list = [slha_dict]*4\n",
    "dataset = merge_slha_files(slha_list)\n",
    "print(dataset.keys())"
   ]
  },
  {
   "cell_type": "code",
   "execution_count": 9,
   "id": "5c99f8c5",
   "metadata": {},
   "outputs": [],
   "source": [
    "from hepaid.utils import dict2json\n",
    "from hepaid.utils import json2dict"
   ]
  },
  {
   "cell_type": "code",
   "execution_count": 10,
   "id": "18b4ef45",
   "metadata": {},
   "outputs": [],
   "source": [
    "dict2json(dataset, 'dataset')"
   ]
  },
  {
   "cell_type": "code",
   "execution_count": 11,
   "id": "27d71c15",
   "metadata": {},
   "outputs": [],
   "source": [
    "del dataset\n",
    "dataset = json2dict('dataset')"
   ]
  },
  {
   "cell_type": "code",
   "execution_count": 12,
   "id": "234851c6",
   "metadata": {},
   "outputs": [
    {
     "data": {
      "text/plain": [
       "dict_keys(['0', '1', '2', '3'])"
      ]
     },
     "execution_count": 12,
     "metadata": {},
     "output_type": "execute_result"
    }
   ],
   "source": [
    "dataset.keys()"
   ]
  },
  {
   "cell_type": "code",
   "execution_count": 13,
   "id": "76528f0b",
   "metadata": {},
   "outputs": [
    {
     "data": {
      "text/plain": [
       "dict_keys(['4', '5', '6', '7'])"
      ]
     },
     "execution_count": 13,
     "metadata": {},
     "output_type": "execute_result"
    }
   ],
   "source": [
    "import numpy as np\n",
    "\n",
    "idxs = np.fromiter(dataset.keys(),dtype=int)\n",
    "first_idx = idxs.max() +1 \n",
    "new_dataset = merge_slha_files(slha_list, first_idx)\n",
    "new_dataset.keys()"
   ]
  },
  {
   "cell_type": "code",
   "execution_count": 14,
   "id": "f2765e4e",
   "metadata": {},
   "outputs": [],
   "source": [
    "from hepaid.utils import merge_slha_datasets"
   ]
  },
  {
   "cell_type": "code",
   "execution_count": 17,
   "id": "a9badc4c",
   "metadata": {},
   "outputs": [],
   "source": [
    "big_dataset = merge_slha_datasets(new_dataset,dataset)"
   ]
  },
  {
   "cell_type": "code",
   "execution_count": 18,
   "id": "13deb545",
   "metadata": {},
   "outputs": [
    {
     "data": {
      "text/plain": [
       "dict_keys(['0', '1', '2', '3', '4', '5', '6', '7'])"
      ]
     },
     "execution_count": 18,
     "metadata": {},
     "output_type": "execute_result"
    }
   ],
   "source": [
    "big_dataset.keys()"
   ]
  }
 ],
 "metadata": {
  "kernelspec": {
   "display_name": "Python [conda env:.conda-rrlib] *",
   "language": "python",
   "name": "conda-env-.conda-rrlib-py"
  },
  "language_info": {
   "codemirror_mode": {
    "name": "ipython",
    "version": 3
   },
   "file_extension": ".py",
   "mimetype": "text/x-python",
   "name": "python",
   "nbconvert_exporter": "python",
   "pygments_lexer": "ipython3",
   "version": "3.8.12"
  }
 },
 "nbformat": 4,
 "nbformat_minor": 5
}
