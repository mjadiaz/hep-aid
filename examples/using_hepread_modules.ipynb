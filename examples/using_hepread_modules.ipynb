{
 "cells": [
  {
   "cell_type": "code",
   "execution_count": 6,
   "id": "f5423180",
   "metadata": {},
   "outputs": [],
   "source": [
    "from hepaid.hepread import LesHouches, SLHA\n",
    "from hepaid.hepread import HiggsBoundsResults, HiggsSignalsResults\n",
    "from omegaconf import OmegaConf\n",
    "from rich import print\n"
   ]
  },
  {
   "cell_type": "code",
   "execution_count": 7,
   "id": "a7c27a2f",
   "metadata": {},
   "outputs": [],
   "source": [
    "param_card = 'Spheno.spc.Step'\n",
    "hbr_dir = 'HiggsBounds_results.dat'\n",
    "hsr_dir = 'HiggsSignals_results.dat'"
   ]
  },
  {
   "cell_type": "markdown",
   "id": "4e30f494",
   "metadata": {},
   "source": [
    "# Initialise file Classes"
   ]
  },
  {
   "cell_type": "code",
   "execution_count": 8,
   "id": "22d5bbdf",
   "metadata": {},
   "outputs": [],
   "source": [
    "slha = SLHA(\n",
    "    file_path = param_card,\n",
    "    work_dir = '.',\n",
    "    model = 'BLSSM'\n",
    "    )\n",
    "hbr = HiggsBoundsResults(\n",
    "    '.',\n",
    "    'BLSSM'\n",
    "    ).read()\n",
    "hsr = HiggsSignalsResults(\n",
    "    '.',\n",
    "    'BLSSM'\n",
    "    ).read()"
   ]
  },
  {
   "cell_type": "markdown",
   "id": "e66b8e0f",
   "metadata": {},
   "source": [
    "SLHA Blocks"
   ]
  },
  {
   "cell_type": "code",
   "execution_count": 9,
   "id": "0d17d575",
   "metadata": {},
   "outputs": [
    {
     "data": {
      "text/html": [
       "<pre style=\"white-space:pre;overflow-x:auto;line-height:normal;font-family:Menlo,'DejaVu Sans Mono',consolas,'Courier New',monospace\"><span style=\"font-weight: bold\">[</span>\n",
       "    <span style=\"color: #008000; text-decoration-color: #008000\">'SPINFO'</span>,\n",
       "    <span style=\"color: #008000; text-decoration-color: #008000\">'MODSEL'</span>,\n",
       "    <span style=\"color: #008000; text-decoration-color: #008000\">'MINPAR'</span>,\n",
       "    <span style=\"color: #008000; text-decoration-color: #008000\">'EXTPAR'</span>,\n",
       "    <span style=\"color: #008000; text-decoration-color: #008000\">'GAUGEGUT'</span>,\n",
       "    <span style=\"color: #008000; text-decoration-color: #008000\">'SMINPUTS'</span>,\n",
       "    <span style=\"color: #008000; text-decoration-color: #008000\">'GAUGE'</span>,\n",
       "    <span style=\"color: #008000; text-decoration-color: #008000\">'BL'</span>,\n",
       "    <span style=\"color: #008000; text-decoration-color: #008000\">'IMBL'</span>,\n",
       "    <span style=\"color: #008000; text-decoration-color: #008000\">'HMIX'</span>,\n",
       "    <span style=\"color: #008000; text-decoration-color: #008000\">'IMHMIX'</span>,\n",
       "    <span style=\"color: #008000; text-decoration-color: #008000\">'MSOFT'</span>,\n",
       "    <span style=\"color: #008000; text-decoration-color: #008000\">'IMMSOFT'</span>,\n",
       "    <span style=\"color: #008000; text-decoration-color: #008000\">'PHASES'</span>,\n",
       "    <span style=\"color: #008000; text-decoration-color: #008000\">'IMPHASES'</span>,\n",
       "    <span style=\"color: #008000; text-decoration-color: #008000\">'ANGLES'</span>,\n",
       "    <span style=\"color: #008000; text-decoration-color: #008000\">'YD'</span>,\n",
       "    <span style=\"color: #008000; text-decoration-color: #008000\">'IMYD'</span>,\n",
       "    <span style=\"color: #008000; text-decoration-color: #008000\">'YE'</span>,\n",
       "    <span style=\"color: #008000; text-decoration-color: #008000\">'IMYE'</span>,\n",
       "    <span style=\"color: #008000; text-decoration-color: #008000\">'YU'</span>,\n",
       "    <span style=\"color: #008000; text-decoration-color: #008000\">'IMYU'</span>,\n",
       "    <span style=\"color: #008000; text-decoration-color: #008000\">'YX'</span>,\n",
       "    <span style=\"color: #008000; text-decoration-color: #008000\">'IMYX'</span>,\n",
       "    <span style=\"color: #008000; text-decoration-color: #008000\">'YV'</span>,\n",
       "    <span style=\"color: #008000; text-decoration-color: #008000\">'IMYV'</span>,\n",
       "    <span style=\"color: #008000; text-decoration-color: #008000\">'TD'</span>,\n",
       "    <span style=\"color: #008000; text-decoration-color: #008000\">'IMTD'</span>,\n",
       "    <span style=\"color: #008000; text-decoration-color: #008000\">'TE'</span>,\n",
       "    <span style=\"color: #008000; text-decoration-color: #008000\">'IMTE'</span>,\n",
       "    <span style=\"color: #008000; text-decoration-color: #008000\">'TU'</span>,\n",
       "    <span style=\"color: #008000; text-decoration-color: #008000\">'IMTU'</span>,\n",
       "    <span style=\"color: #008000; text-decoration-color: #008000\">'TX'</span>,\n",
       "    <span style=\"color: #008000; text-decoration-color: #008000\">'IMTX'</span>,\n",
       "    <span style=\"color: #008000; text-decoration-color: #008000\">'TV'</span>,\n",
       "    <span style=\"color: #008000; text-decoration-color: #008000\">'IMTV'</span>,\n",
       "    <span style=\"color: #008000; text-decoration-color: #008000\">'MSQ2'</span>,\n",
       "    <span style=\"color: #008000; text-decoration-color: #008000\">'IMMSQ2'</span>,\n",
       "    <span style=\"color: #008000; text-decoration-color: #008000\">'MSL2'</span>,\n",
       "    <span style=\"color: #008000; text-decoration-color: #008000\">'IMMSL2'</span>,\n",
       "    <span style=\"color: #008000; text-decoration-color: #008000\">'MSD2'</span>,\n",
       "    <span style=\"color: #008000; text-decoration-color: #008000\">'IMMSD2'</span>,\n",
       "    <span style=\"color: #008000; text-decoration-color: #008000\">'MSU2'</span>,\n",
       "    <span style=\"color: #008000; text-decoration-color: #008000\">'IMMSU2'</span>,\n",
       "    <span style=\"color: #008000; text-decoration-color: #008000\">'MSE2'</span>,\n",
       "    <span style=\"color: #008000; text-decoration-color: #008000\">'IMMSE2'</span>,\n",
       "    <span style=\"color: #008000; text-decoration-color: #008000\">'MV2'</span>,\n",
       "    <span style=\"color: #008000; text-decoration-color: #008000\">'IMMV2'</span>,\n",
       "    <span style=\"color: #008000; text-decoration-color: #008000\">'ADDPARS'</span>,\n",
       "    <span style=\"color: #008000; text-decoration-color: #008000\">'MASS'</span>,\n",
       "    <span style=\"color: #008000; text-decoration-color: #008000\">'DSQMIX'</span>,\n",
       "    <span style=\"color: #008000; text-decoration-color: #008000\">'IMDSQMIX'</span>,\n",
       "    <span style=\"color: #008000; text-decoration-color: #008000\">'USQMIX'</span>,\n",
       "    <span style=\"color: #008000; text-decoration-color: #008000\">'IMUSQMIX'</span>,\n",
       "    <span style=\"color: #008000; text-decoration-color: #008000\">'SELMIX'</span>,\n",
       "    <span style=\"color: #008000; text-decoration-color: #008000\">'IMSELMIX'</span>,\n",
       "    <span style=\"color: #008000; text-decoration-color: #008000\">'SNUMIXI'</span>,\n",
       "    <span style=\"color: #008000; text-decoration-color: #008000\">'IMSNUMIXI'</span>,\n",
       "    <span style=\"color: #008000; text-decoration-color: #008000\">'SNUMIXR'</span>,\n",
       "    <span style=\"color: #008000; text-decoration-color: #008000\">'IMSNUMIXR'</span>,\n",
       "    <span style=\"color: #008000; text-decoration-color: #008000\">'SCALARMIX'</span>,\n",
       "    <span style=\"color: #008000; text-decoration-color: #008000\">'PSEUDOSCALARMIX'</span>,\n",
       "    <span style=\"color: #008000; text-decoration-color: #008000\">'CHARGEMIX'</span>,\n",
       "    <span style=\"color: #008000; text-decoration-color: #008000\">'NMIX'</span>,\n",
       "    <span style=\"color: #008000; text-decoration-color: #008000\">'IMNMIX'</span>,\n",
       "    <span style=\"color: #008000; text-decoration-color: #008000\">'UMIX'</span>,\n",
       "    <span style=\"color: #008000; text-decoration-color: #008000\">'IMUMIX'</span>,\n",
       "    <span style=\"color: #008000; text-decoration-color: #008000\">'VMIX'</span>,\n",
       "    <span style=\"color: #008000; text-decoration-color: #008000\">'IMVMIX'</span>,\n",
       "    <span style=\"color: #008000; text-decoration-color: #008000\">'UVMIX'</span>,\n",
       "    <span style=\"color: #008000; text-decoration-color: #008000\">'IMUVMIX'</span>,\n",
       "    <span style=\"color: #008000; text-decoration-color: #008000\">'UELMIX'</span>,\n",
       "    <span style=\"color: #008000; text-decoration-color: #008000\">'IMUELMIX'</span>,\n",
       "    <span style=\"color: #008000; text-decoration-color: #008000\">'UERMIX'</span>,\n",
       "    <span style=\"color: #008000; text-decoration-color: #008000\">'IMUERMIX'</span>,\n",
       "    <span style=\"color: #008000; text-decoration-color: #008000\">'UDLMIX'</span>,\n",
       "    <span style=\"color: #008000; text-decoration-color: #008000\">'IMUDLMIX'</span>,\n",
       "    <span style=\"color: #008000; text-decoration-color: #008000\">'UDRMIX'</span>,\n",
       "    <span style=\"color: #008000; text-decoration-color: #008000\">'IMUDRMIX'</span>,\n",
       "    <span style=\"color: #008000; text-decoration-color: #008000\">'UULMIX'</span>,\n",
       "    <span style=\"color: #008000; text-decoration-color: #008000\">'IMUULMIX'</span>,\n",
       "    <span style=\"color: #008000; text-decoration-color: #008000\">'UURMIX'</span>,\n",
       "    <span style=\"color: #008000; text-decoration-color: #008000\">'IMUURMIX'</span>,\n",
       "    <span style=\"color: #008000; text-decoration-color: #008000\">'SPHENO'</span>,\n",
       "    <span style=\"color: #008000; text-decoration-color: #008000\">'HIGGSLHC7'</span>,\n",
       "    <span style=\"color: #008000; text-decoration-color: #008000\">'HIGGSLHC8'</span>,\n",
       "    <span style=\"color: #008000; text-decoration-color: #008000\">'HIGGSLHC13'</span>,\n",
       "    <span style=\"color: #008000; text-decoration-color: #008000\">'HIGGSLHC14'</span>,\n",
       "    <span style=\"color: #008000; text-decoration-color: #008000\">'HIGGSFCC100'</span>,\n",
       "    <span style=\"color: #008000; text-decoration-color: #008000\">'EFFHIGGSCOUPLINGS'</span>,\n",
       "    <span style=\"color: #008000; text-decoration-color: #008000\">'SPHENOLOWENERGY'</span>,\n",
       "    <span style=\"color: #008000; text-decoration-color: #008000\">'FLAVORKITQFV'</span>,\n",
       "    <span style=\"color: #008000; text-decoration-color: #008000\">'FLAVORKITLFV'</span>,\n",
       "    <span style=\"color: #008000; text-decoration-color: #008000\">'FWCOEF'</span>,\n",
       "    <span style=\"color: #008000; text-decoration-color: #008000\">'IMFWCOEF'</span>,\n",
       "    <span style=\"color: #008000; text-decoration-color: #008000\">'DECAY 1000001'</span>,\n",
       "    <span style=\"color: #008000; text-decoration-color: #008000\">'DECAY 1000003'</span>,\n",
       "    <span style=\"color: #008000; text-decoration-color: #008000\">'DECAY 1000005'</span>,\n",
       "    <span style=\"color: #008000; text-decoration-color: #008000\">'DECAY 2000001'</span>,\n",
       "    <span style=\"color: #008000; text-decoration-color: #008000\">'DECAY 2000003'</span>,\n",
       "    <span style=\"color: #008000; text-decoration-color: #008000\">'DECAY 2000005'</span>,\n",
       "    <span style=\"color: #008000; text-decoration-color: #008000\">'DECAY 1000002'</span>,\n",
       "    <span style=\"color: #008000; text-decoration-color: #008000\">'DECAY 1000004'</span>,\n",
       "    <span style=\"color: #008000; text-decoration-color: #008000\">'DECAY 1000006'</span>,\n",
       "    <span style=\"color: #008000; text-decoration-color: #008000\">'DECAY 2000002'</span>,\n",
       "    <span style=\"color: #008000; text-decoration-color: #008000\">'DECAY 2000004'</span>,\n",
       "    <span style=\"color: #008000; text-decoration-color: #008000\">'DECAY 2000006'</span>,\n",
       "    <span style=\"color: #008000; text-decoration-color: #008000\">'DECAY 1000011'</span>,\n",
       "    <span style=\"color: #008000; text-decoration-color: #008000\">'DECAY 1000013'</span>,\n",
       "    <span style=\"color: #008000; text-decoration-color: #008000\">'DECAY 1000015'</span>,\n",
       "    <span style=\"color: #008000; text-decoration-color: #008000\">'DECAY 2000011'</span>,\n",
       "    <span style=\"color: #008000; text-decoration-color: #008000\">'DECAY 2000013'</span>,\n",
       "    <span style=\"color: #008000; text-decoration-color: #008000\">'DECAY 2000015'</span>,\n",
       "    <span style=\"color: #008000; text-decoration-color: #008000\">'DECAY 1000012'</span>,\n",
       "    <span style=\"color: #008000; text-decoration-color: #008000\">'DECAY 1000014'</span>,\n",
       "    <span style=\"color: #008000; text-decoration-color: #008000\">'DECAY 1000016'</span>,\n",
       "    <span style=\"color: #008000; text-decoration-color: #008000\">'DECAY 2000012'</span>,\n",
       "    <span style=\"color: #008000; text-decoration-color: #008000\">'DECAY 2000014'</span>,\n",
       "    <span style=\"color: #008000; text-decoration-color: #008000\">'DECAY 2000016'</span>,\n",
       "    <span style=\"color: #008000; text-decoration-color: #008000\">'DECAY 4000012'</span>,\n",
       "    <span style=\"color: #008000; text-decoration-color: #008000\">'DECAY 4000014'</span>,\n",
       "    <span style=\"color: #008000; text-decoration-color: #008000\">'DECAY 4000016'</span>,\n",
       "    <span style=\"color: #008000; text-decoration-color: #008000\">'DECAY 5000012'</span>,\n",
       "    <span style=\"color: #008000; text-decoration-color: #008000\">'DECAY 5000014'</span>,\n",
       "    <span style=\"color: #008000; text-decoration-color: #008000\">'DECAY 5000016'</span>,\n",
       "    <span style=\"color: #008000; text-decoration-color: #008000\">'DECAY 25'</span>,\n",
       "    <span style=\"color: #008000; text-decoration-color: #008000\">'DECAY 35'</span>,\n",
       "    <span style=\"color: #008000; text-decoration-color: #008000\">'DECAY 9900025'</span>,\n",
       "    <span style=\"color: #008000; text-decoration-color: #008000\">'DECAY 9900035'</span>,\n",
       "    <span style=\"color: #008000; text-decoration-color: #008000\">'DECAY 36'</span>,\n",
       "    <span style=\"color: #008000; text-decoration-color: #008000\">'DECAY 9900036'</span>,\n",
       "    <span style=\"color: #008000; text-decoration-color: #008000\">'DECAY 37'</span>,\n",
       "    <span style=\"color: #008000; text-decoration-color: #008000\">'DECAY 31'</span>,\n",
       "    <span style=\"color: #008000; text-decoration-color: #008000\">'DECAY 1000021'</span>,\n",
       "    <span style=\"color: #008000; text-decoration-color: #008000\">'DECAY 1000024'</span>,\n",
       "    <span style=\"color: #008000; text-decoration-color: #008000\">'DECAY 1000037'</span>,\n",
       "    <span style=\"color: #008000; text-decoration-color: #008000\">'DECAY 1000022'</span>,\n",
       "    <span style=\"color: #008000; text-decoration-color: #008000\">'DECAY 1000023'</span>,\n",
       "    <span style=\"color: #008000; text-decoration-color: #008000\">'DECAY 1000025'</span>,\n",
       "    <span style=\"color: #008000; text-decoration-color: #008000\">'DECAY 1000035'</span>,\n",
       "    <span style=\"color: #008000; text-decoration-color: #008000\">'DECAY 1000032'</span>,\n",
       "    <span style=\"color: #008000; text-decoration-color: #008000\">'DECAY 1000036'</span>,\n",
       "    <span style=\"color: #008000; text-decoration-color: #008000\">'DECAY 1000039'</span>,\n",
       "    <span style=\"color: #008000; text-decoration-color: #008000\">'DECAY 2'</span>,\n",
       "    <span style=\"color: #008000; text-decoration-color: #008000\">'DECAY 4'</span>,\n",
       "    <span style=\"color: #008000; text-decoration-color: #008000\">'DECAY 6'</span>,\n",
       "    <span style=\"color: #008000; text-decoration-color: #008000\">'DECAY 12'</span>,\n",
       "    <span style=\"color: #008000; text-decoration-color: #008000\">'DECAY 14'</span>,\n",
       "    <span style=\"color: #008000; text-decoration-color: #008000\">'DECAY 16'</span>,\n",
       "    <span style=\"color: #008000; text-decoration-color: #008000\">'DECAY 112'</span>,\n",
       "    <span style=\"color: #008000; text-decoration-color: #008000\">'DECAY 114'</span>,\n",
       "    <span style=\"color: #008000; text-decoration-color: #008000\">'DECAY 116'</span>,\n",
       "    <span style=\"color: #008000; text-decoration-color: #008000\">'DECAY 21'</span>,\n",
       "    <span style=\"color: #008000; text-decoration-color: #008000\">'DECAY 22'</span>,\n",
       "    <span style=\"color: #008000; text-decoration-color: #008000\">'DECAY 23'</span>,\n",
       "    <span style=\"color: #008000; text-decoration-color: #008000\">'DECAY 24'</span>,\n",
       "    <span style=\"color: #008000; text-decoration-color: #008000\">'DECAY 11'</span>,\n",
       "    <span style=\"color: #008000; text-decoration-color: #008000\">'DECAY 13'</span>,\n",
       "    <span style=\"color: #008000; text-decoration-color: #008000\">'DECAY 15'</span>,\n",
       "    <span style=\"color: #008000; text-decoration-color: #008000\">'DECAY 1'</span>,\n",
       "    <span style=\"color: #008000; text-decoration-color: #008000\">'DECAY 3'</span>,\n",
       "    <span style=\"color: #008000; text-decoration-color: #008000\">'DECAY 5'</span>\n",
       "<span style=\"font-weight: bold\">]</span>\n",
       "</pre>\n"
      ],
      "text/plain": [
       "\u001b[1m[\u001b[0m\n",
       "    \u001b[32m'SPINFO'\u001b[0m,\n",
       "    \u001b[32m'MODSEL'\u001b[0m,\n",
       "    \u001b[32m'MINPAR'\u001b[0m,\n",
       "    \u001b[32m'EXTPAR'\u001b[0m,\n",
       "    \u001b[32m'GAUGEGUT'\u001b[0m,\n",
       "    \u001b[32m'SMINPUTS'\u001b[0m,\n",
       "    \u001b[32m'GAUGE'\u001b[0m,\n",
       "    \u001b[32m'BL'\u001b[0m,\n",
       "    \u001b[32m'IMBL'\u001b[0m,\n",
       "    \u001b[32m'HMIX'\u001b[0m,\n",
       "    \u001b[32m'IMHMIX'\u001b[0m,\n",
       "    \u001b[32m'MSOFT'\u001b[0m,\n",
       "    \u001b[32m'IMMSOFT'\u001b[0m,\n",
       "    \u001b[32m'PHASES'\u001b[0m,\n",
       "    \u001b[32m'IMPHASES'\u001b[0m,\n",
       "    \u001b[32m'ANGLES'\u001b[0m,\n",
       "    \u001b[32m'YD'\u001b[0m,\n",
       "    \u001b[32m'IMYD'\u001b[0m,\n",
       "    \u001b[32m'YE'\u001b[0m,\n",
       "    \u001b[32m'IMYE'\u001b[0m,\n",
       "    \u001b[32m'YU'\u001b[0m,\n",
       "    \u001b[32m'IMYU'\u001b[0m,\n",
       "    \u001b[32m'YX'\u001b[0m,\n",
       "    \u001b[32m'IMYX'\u001b[0m,\n",
       "    \u001b[32m'YV'\u001b[0m,\n",
       "    \u001b[32m'IMYV'\u001b[0m,\n",
       "    \u001b[32m'TD'\u001b[0m,\n",
       "    \u001b[32m'IMTD'\u001b[0m,\n",
       "    \u001b[32m'TE'\u001b[0m,\n",
       "    \u001b[32m'IMTE'\u001b[0m,\n",
       "    \u001b[32m'TU'\u001b[0m,\n",
       "    \u001b[32m'IMTU'\u001b[0m,\n",
       "    \u001b[32m'TX'\u001b[0m,\n",
       "    \u001b[32m'IMTX'\u001b[0m,\n",
       "    \u001b[32m'TV'\u001b[0m,\n",
       "    \u001b[32m'IMTV'\u001b[0m,\n",
       "    \u001b[32m'MSQ2'\u001b[0m,\n",
       "    \u001b[32m'IMMSQ2'\u001b[0m,\n",
       "    \u001b[32m'MSL2'\u001b[0m,\n",
       "    \u001b[32m'IMMSL2'\u001b[0m,\n",
       "    \u001b[32m'MSD2'\u001b[0m,\n",
       "    \u001b[32m'IMMSD2'\u001b[0m,\n",
       "    \u001b[32m'MSU2'\u001b[0m,\n",
       "    \u001b[32m'IMMSU2'\u001b[0m,\n",
       "    \u001b[32m'MSE2'\u001b[0m,\n",
       "    \u001b[32m'IMMSE2'\u001b[0m,\n",
       "    \u001b[32m'MV2'\u001b[0m,\n",
       "    \u001b[32m'IMMV2'\u001b[0m,\n",
       "    \u001b[32m'ADDPARS'\u001b[0m,\n",
       "    \u001b[32m'MASS'\u001b[0m,\n",
       "    \u001b[32m'DSQMIX'\u001b[0m,\n",
       "    \u001b[32m'IMDSQMIX'\u001b[0m,\n",
       "    \u001b[32m'USQMIX'\u001b[0m,\n",
       "    \u001b[32m'IMUSQMIX'\u001b[0m,\n",
       "    \u001b[32m'SELMIX'\u001b[0m,\n",
       "    \u001b[32m'IMSELMIX'\u001b[0m,\n",
       "    \u001b[32m'SNUMIXI'\u001b[0m,\n",
       "    \u001b[32m'IMSNUMIXI'\u001b[0m,\n",
       "    \u001b[32m'SNUMIXR'\u001b[0m,\n",
       "    \u001b[32m'IMSNUMIXR'\u001b[0m,\n",
       "    \u001b[32m'SCALARMIX'\u001b[0m,\n",
       "    \u001b[32m'PSEUDOSCALARMIX'\u001b[0m,\n",
       "    \u001b[32m'CHARGEMIX'\u001b[0m,\n",
       "    \u001b[32m'NMIX'\u001b[0m,\n",
       "    \u001b[32m'IMNMIX'\u001b[0m,\n",
       "    \u001b[32m'UMIX'\u001b[0m,\n",
       "    \u001b[32m'IMUMIX'\u001b[0m,\n",
       "    \u001b[32m'VMIX'\u001b[0m,\n",
       "    \u001b[32m'IMVMIX'\u001b[0m,\n",
       "    \u001b[32m'UVMIX'\u001b[0m,\n",
       "    \u001b[32m'IMUVMIX'\u001b[0m,\n",
       "    \u001b[32m'UELMIX'\u001b[0m,\n",
       "    \u001b[32m'IMUELMIX'\u001b[0m,\n",
       "    \u001b[32m'UERMIX'\u001b[0m,\n",
       "    \u001b[32m'IMUERMIX'\u001b[0m,\n",
       "    \u001b[32m'UDLMIX'\u001b[0m,\n",
       "    \u001b[32m'IMUDLMIX'\u001b[0m,\n",
       "    \u001b[32m'UDRMIX'\u001b[0m,\n",
       "    \u001b[32m'IMUDRMIX'\u001b[0m,\n",
       "    \u001b[32m'UULMIX'\u001b[0m,\n",
       "    \u001b[32m'IMUULMIX'\u001b[0m,\n",
       "    \u001b[32m'UURMIX'\u001b[0m,\n",
       "    \u001b[32m'IMUURMIX'\u001b[0m,\n",
       "    \u001b[32m'SPHENO'\u001b[0m,\n",
       "    \u001b[32m'HIGGSLHC7'\u001b[0m,\n",
       "    \u001b[32m'HIGGSLHC8'\u001b[0m,\n",
       "    \u001b[32m'HIGGSLHC13'\u001b[0m,\n",
       "    \u001b[32m'HIGGSLHC14'\u001b[0m,\n",
       "    \u001b[32m'HIGGSFCC100'\u001b[0m,\n",
       "    \u001b[32m'EFFHIGGSCOUPLINGS'\u001b[0m,\n",
       "    \u001b[32m'SPHENOLOWENERGY'\u001b[0m,\n",
       "    \u001b[32m'FLAVORKITQFV'\u001b[0m,\n",
       "    \u001b[32m'FLAVORKITLFV'\u001b[0m,\n",
       "    \u001b[32m'FWCOEF'\u001b[0m,\n",
       "    \u001b[32m'IMFWCOEF'\u001b[0m,\n",
       "    \u001b[32m'DECAY 1000001'\u001b[0m,\n",
       "    \u001b[32m'DECAY 1000003'\u001b[0m,\n",
       "    \u001b[32m'DECAY 1000005'\u001b[0m,\n",
       "    \u001b[32m'DECAY 2000001'\u001b[0m,\n",
       "    \u001b[32m'DECAY 2000003'\u001b[0m,\n",
       "    \u001b[32m'DECAY 2000005'\u001b[0m,\n",
       "    \u001b[32m'DECAY 1000002'\u001b[0m,\n",
       "    \u001b[32m'DECAY 1000004'\u001b[0m,\n",
       "    \u001b[32m'DECAY 1000006'\u001b[0m,\n",
       "    \u001b[32m'DECAY 2000002'\u001b[0m,\n",
       "    \u001b[32m'DECAY 2000004'\u001b[0m,\n",
       "    \u001b[32m'DECAY 2000006'\u001b[0m,\n",
       "    \u001b[32m'DECAY 1000011'\u001b[0m,\n",
       "    \u001b[32m'DECAY 1000013'\u001b[0m,\n",
       "    \u001b[32m'DECAY 1000015'\u001b[0m,\n",
       "    \u001b[32m'DECAY 2000011'\u001b[0m,\n",
       "    \u001b[32m'DECAY 2000013'\u001b[0m,\n",
       "    \u001b[32m'DECAY 2000015'\u001b[0m,\n",
       "    \u001b[32m'DECAY 1000012'\u001b[0m,\n",
       "    \u001b[32m'DECAY 1000014'\u001b[0m,\n",
       "    \u001b[32m'DECAY 1000016'\u001b[0m,\n",
       "    \u001b[32m'DECAY 2000012'\u001b[0m,\n",
       "    \u001b[32m'DECAY 2000014'\u001b[0m,\n",
       "    \u001b[32m'DECAY 2000016'\u001b[0m,\n",
       "    \u001b[32m'DECAY 4000012'\u001b[0m,\n",
       "    \u001b[32m'DECAY 4000014'\u001b[0m,\n",
       "    \u001b[32m'DECAY 4000016'\u001b[0m,\n",
       "    \u001b[32m'DECAY 5000012'\u001b[0m,\n",
       "    \u001b[32m'DECAY 5000014'\u001b[0m,\n",
       "    \u001b[32m'DECAY 5000016'\u001b[0m,\n",
       "    \u001b[32m'DECAY 25'\u001b[0m,\n",
       "    \u001b[32m'DECAY 35'\u001b[0m,\n",
       "    \u001b[32m'DECAY 9900025'\u001b[0m,\n",
       "    \u001b[32m'DECAY 9900035'\u001b[0m,\n",
       "    \u001b[32m'DECAY 36'\u001b[0m,\n",
       "    \u001b[32m'DECAY 9900036'\u001b[0m,\n",
       "    \u001b[32m'DECAY 37'\u001b[0m,\n",
       "    \u001b[32m'DECAY 31'\u001b[0m,\n",
       "    \u001b[32m'DECAY 1000021'\u001b[0m,\n",
       "    \u001b[32m'DECAY 1000024'\u001b[0m,\n",
       "    \u001b[32m'DECAY 1000037'\u001b[0m,\n",
       "    \u001b[32m'DECAY 1000022'\u001b[0m,\n",
       "    \u001b[32m'DECAY 1000023'\u001b[0m,\n",
       "    \u001b[32m'DECAY 1000025'\u001b[0m,\n",
       "    \u001b[32m'DECAY 1000035'\u001b[0m,\n",
       "    \u001b[32m'DECAY 1000032'\u001b[0m,\n",
       "    \u001b[32m'DECAY 1000036'\u001b[0m,\n",
       "    \u001b[32m'DECAY 1000039'\u001b[0m,\n",
       "    \u001b[32m'DECAY 2'\u001b[0m,\n",
       "    \u001b[32m'DECAY 4'\u001b[0m,\n",
       "    \u001b[32m'DECAY 6'\u001b[0m,\n",
       "    \u001b[32m'DECAY 12'\u001b[0m,\n",
       "    \u001b[32m'DECAY 14'\u001b[0m,\n",
       "    \u001b[32m'DECAY 16'\u001b[0m,\n",
       "    \u001b[32m'DECAY 112'\u001b[0m,\n",
       "    \u001b[32m'DECAY 114'\u001b[0m,\n",
       "    \u001b[32m'DECAY 116'\u001b[0m,\n",
       "    \u001b[32m'DECAY 21'\u001b[0m,\n",
       "    \u001b[32m'DECAY 22'\u001b[0m,\n",
       "    \u001b[32m'DECAY 23'\u001b[0m,\n",
       "    \u001b[32m'DECAY 24'\u001b[0m,\n",
       "    \u001b[32m'DECAY 11'\u001b[0m,\n",
       "    \u001b[32m'DECAY 13'\u001b[0m,\n",
       "    \u001b[32m'DECAY 15'\u001b[0m,\n",
       "    \u001b[32m'DECAY 1'\u001b[0m,\n",
       "    \u001b[32m'DECAY 3'\u001b[0m,\n",
       "    \u001b[32m'DECAY 5'\u001b[0m\n",
       "\u001b[1m]\u001b[0m\n"
      ]
     },
     "metadata": {},
     "output_type": "display_data"
    }
   ],
   "source": [
    "print(slha.block_list)"
   ]
  },
  {
   "cell_type": "markdown",
   "id": "fe40570d",
   "metadata": {},
   "source": [
    "Reading blocks"
   ]
  },
  {
   "cell_type": "code",
   "execution_count": 45,
   "id": "4e9d35fd",
   "metadata": {},
   "outputs": [
    {
     "data": {
      "text/html": [
       "<pre style=\"white-space:pre;overflow-x:auto;line-height:normal;font-family:Menlo,'DejaVu Sans Mono',consolas,'Courier New',monospace\">BLOCK     MINPAR   # INPUT PARAMETERS\n",
       "          <span style=\"color: #008080; text-decoration-color: #008080; font-weight: bold\">1</span>    <span style=\"color: #008080; text-decoration-color: #008080; font-weight: bold\">7.</span>18906100E+<span style=\"color: #008080; text-decoration-color: #008080; font-weight: bold\">02</span>    # m0\n",
       "          <span style=\"color: #008080; text-decoration-color: #008080; font-weight: bold\">2</span>    <span style=\"color: #008080; text-decoration-color: #008080; font-weight: bold\">3.</span>59611800E+<span style=\"color: #008080; text-decoration-color: #008080; font-weight: bold\">03</span>    # m12\n",
       "          <span style=\"color: #008080; text-decoration-color: #008080; font-weight: bold\">3</span>    <span style=\"color: #008080; text-decoration-color: #008080; font-weight: bold\">2.</span>74225600E+<span style=\"color: #008080; text-decoration-color: #008080; font-weight: bold\">01</span>    # TanBeta\n",
       "          <span style=\"color: #008080; text-decoration-color: #008080; font-weight: bold\">4</span>    <span style=\"color: #008080; text-decoration-color: #008080; font-weight: bold\">1.</span>00000000E+<span style=\"color: #008080; text-decoration-color: #008080; font-weight: bold\">00</span>    # SignumMu\n",
       "          <span style=\"color: #008080; text-decoration-color: #008080; font-weight: bold\">5</span>    <span style=\"color: #008080; text-decoration-color: #008080; font-weight: bold\">2.</span>59005900E+<span style=\"color: #008080; text-decoration-color: #008080; font-weight: bold\">03</span>    # Azero\n",
       "          <span style=\"color: #008080; text-decoration-color: #008080; font-weight: bold\">6</span>    <span style=\"color: #008080; text-decoration-color: #008080; font-weight: bold\">1.</span>00000000E+<span style=\"color: #008080; text-decoration-color: #008080; font-weight: bold\">00</span>    # SignumMuP\n",
       "          <span style=\"color: #008080; text-decoration-color: #008080; font-weight: bold\">7</span>    <span style=\"color: #008080; text-decoration-color: #008080; font-weight: bold\">1.</span>15000000E+<span style=\"color: #008080; text-decoration-color: #008080; font-weight: bold\">00</span>    # TBetaP\n",
       "          <span style=\"color: #008080; text-decoration-color: #008080; font-weight: bold\">8</span>    <span style=\"color: #008080; text-decoration-color: #008080; font-weight: bold\">2.</span>50000000E+<span style=\"color: #008080; text-decoration-color: #008080; font-weight: bold\">03</span>    # MZp\n",
       "\n",
       "</pre>\n"
      ],
      "text/plain": [
       "BLOCK     MINPAR   # INPUT PARAMETERS\n",
       "          \u001b[1;36m1\u001b[0m    \u001b[1;36m7.\u001b[0m18906100E+\u001b[1;36m02\u001b[0m    # m0\n",
       "          \u001b[1;36m2\u001b[0m    \u001b[1;36m3.\u001b[0m59611800E+\u001b[1;36m03\u001b[0m    # m12\n",
       "          \u001b[1;36m3\u001b[0m    \u001b[1;36m2.\u001b[0m74225600E+\u001b[1;36m01\u001b[0m    # TanBeta\n",
       "          \u001b[1;36m4\u001b[0m    \u001b[1;36m1.\u001b[0m00000000E+\u001b[1;36m00\u001b[0m    # SignumMu\n",
       "          \u001b[1;36m5\u001b[0m    \u001b[1;36m2.\u001b[0m59005900E+\u001b[1;36m03\u001b[0m    # Azero\n",
       "          \u001b[1;36m6\u001b[0m    \u001b[1;36m1.\u001b[0m00000000E+\u001b[1;36m00\u001b[0m    # SignumMuP\n",
       "          \u001b[1;36m7\u001b[0m    \u001b[1;36m1.\u001b[0m15000000E+\u001b[1;36m00\u001b[0m    # TBetaP\n",
       "          \u001b[1;36m8\u001b[0m    \u001b[1;36m2.\u001b[0m50000000E+\u001b[1;36m03\u001b[0m    # MZp\n",
       "\n"
      ]
     },
     "metadata": {},
     "output_type": "display_data"
    },
    {
     "data": {
      "text/html": [
       "<pre style=\"white-space:pre;overflow-x:auto;line-height:normal;font-family:Menlo,'DejaVu Sans Mono',consolas,'Courier New',monospace\">BLOCK     EXTPAR   # INPUT PARAMETERS\n",
       "          <span style=\"color: #008080; text-decoration-color: #008080; font-weight: bold\">1</span>    <span style=\"color: #008080; text-decoration-color: #008080; font-weight: bold\">5.</span>30000000E-<span style=\"color: #008080; text-decoration-color: #008080; font-weight: bold\">01</span>    # gBLinput\n",
       "          <span style=\"color: #008080; text-decoration-color: #008080; font-weight: bold\">2</span>   <span style=\"color: #008080; text-decoration-color: #008080; font-weight: bold\">-1.</span>40000000E-<span style=\"color: #008080; text-decoration-color: #008080; font-weight: bold\">01</span>    # g1BLinput\n",
       "          <span style=\"color: #008080; text-decoration-color: #008080; font-weight: bold\">3</span>    <span style=\"color: #008080; text-decoration-color: #008080; font-weight: bold\">2.</span>50000000E+<span style=\"color: #008080; text-decoration-color: #008080; font-weight: bold\">03</span>    # MZp\n",
       "         <span style=\"color: #008080; text-decoration-color: #008080; font-weight: bold\">10</span>    <span style=\"color: #008080; text-decoration-color: #008080; font-weight: bold\">1.</span>15000000E+<span style=\"color: #008080; text-decoration-color: #008080; font-weight: bold\">00</span>    # TBetaP\n",
       "\n",
       "</pre>\n"
      ],
      "text/plain": [
       "BLOCK     EXTPAR   # INPUT PARAMETERS\n",
       "          \u001b[1;36m1\u001b[0m    \u001b[1;36m5.\u001b[0m30000000E-\u001b[1;36m01\u001b[0m    # gBLinput\n",
       "          \u001b[1;36m2\u001b[0m   \u001b[1;36m-1.\u001b[0m40000000E-\u001b[1;36m01\u001b[0m    # g1BLinput\n",
       "          \u001b[1;36m3\u001b[0m    \u001b[1;36m2.\u001b[0m50000000E+\u001b[1;36m03\u001b[0m    # MZp\n",
       "         \u001b[1;36m10\u001b[0m    \u001b[1;36m1.\u001b[0m15000000E+\u001b[1;36m00\u001b[0m    # TBetaP\n",
       "\n"
      ]
     },
     "metadata": {},
     "output_type": "display_data"
    }
   ],
   "source": [
    "print(slha['MINPAR'])\n",
    "print(slha['EXTPAR'])"
   ]
  },
  {
   "cell_type": "code",
   "execution_count": 46,
   "id": "357a5d77",
   "metadata": {},
   "outputs": [
    {
     "data": {
      "text/html": [
       "<pre style=\"white-space:pre;overflow-x:auto;line-height:normal;font-family:Menlo,'DejaVu Sans Mono',consolas,'Courier New',monospace\">BLOCK     HIGGSLHC13   # HIGGS PRODUCTION CROSS SECTION AT LHC13 <span style=\"font-weight: bold\">[</span>PB<span style=\"font-weight: bold\">]</span> <span style=\"font-weight: bold\">(</span>RESCALED SM VALUES \n",
       "FROM SUSHI <span style=\"color: #008080; text-decoration-color: #008080; font-weight: bold\">1.5</span>.<span style=\"color: #008080; text-decoration-color: #008080; font-weight: bold\">0</span><span style=\"font-weight: bold\">)</span>\n",
       "    <span style=\"color: #008080; text-decoration-color: #008080; font-weight: bold\">1</span>   <span style=\"color: #008080; text-decoration-color: #008080; font-weight: bold\">25</span>    <span style=\"color: #008080; text-decoration-color: #008080; font-weight: bold\">4.</span>85082256E+<span style=\"color: #008080; text-decoration-color: #008080; font-weight: bold\">01</span>    # Gluon fusion\n",
       "    <span style=\"color: #008080; text-decoration-color: #008080; font-weight: bold\">1</span>   <span style=\"color: #008080; text-decoration-color: #008080; font-weight: bold\">35</span>    <span style=\"color: #008080; text-decoration-color: #008080; font-weight: bold\">4.</span>39744076E+<span style=\"color: #008080; text-decoration-color: #008080; font-weight: bold\">00</span>    # Gluon fusion\n",
       "\n",
       "</pre>\n"
      ],
      "text/plain": [
       "BLOCK     HIGGSLHC13   # HIGGS PRODUCTION CROSS SECTION AT LHC13 \u001b[1m[\u001b[0mPB\u001b[1m]\u001b[0m \u001b[1m(\u001b[0mRESCALED SM VALUES \n",
       "FROM SUSHI \u001b[1;36m1.5\u001b[0m.\u001b[1;36m0\u001b[0m\u001b[1m)\u001b[0m\n",
       "    \u001b[1;36m1\u001b[0m   \u001b[1;36m25\u001b[0m    \u001b[1;36m4.\u001b[0m85082256E+\u001b[1;36m01\u001b[0m    # Gluon fusion\n",
       "    \u001b[1;36m1\u001b[0m   \u001b[1;36m35\u001b[0m    \u001b[1;36m4.\u001b[0m39744076E+\u001b[1;36m00\u001b[0m    # Gluon fusion\n",
       "\n"
      ]
     },
     "metadata": {},
     "output_type": "display_data"
    }
   ],
   "source": [
    "print(slha['HIGGSLHC13'])"
   ]
  },
  {
   "cell_type": "code",
   "execution_count": 47,
   "id": "4b14c119",
   "metadata": {},
   "outputs": [
    {
     "data": {
      "text/html": [
       "<pre style=\"white-space:pre;overflow-x:auto;line-height:normal;font-family:Menlo,'DejaVu Sans Mono',consolas,'Courier New',monospace\">BLOCK     HIGGSLHC14   # HIGGS PRODUCTION CROSS SECTION AT LHC14 <span style=\"font-weight: bold\">[</span>PB<span style=\"font-weight: bold\">]</span> <span style=\"font-weight: bold\">(</span>RESCALED SM VALUES \n",
       "FROM SUSHI <span style=\"color: #008080; text-decoration-color: #008080; font-weight: bold\">1.5</span>.<span style=\"color: #008080; text-decoration-color: #008080; font-weight: bold\">0</span><span style=\"font-weight: bold\">)</span>\n",
       "    <span style=\"color: #008080; text-decoration-color: #008080; font-weight: bold\">1</span>   <span style=\"color: #008080; text-decoration-color: #008080; font-weight: bold\">25</span>    <span style=\"color: #008080; text-decoration-color: #008080; font-weight: bold\">5.</span>45692335E+<span style=\"color: #008080; text-decoration-color: #008080; font-weight: bold\">01</span>    # Gluon fusion\n",
       "    <span style=\"color: #008080; text-decoration-color: #008080; font-weight: bold\">1</span>   <span style=\"color: #008080; text-decoration-color: #008080; font-weight: bold\">35</span>    <span style=\"color: #008080; text-decoration-color: #008080; font-weight: bold\">4.</span>99948986E+<span style=\"color: #008080; text-decoration-color: #008080; font-weight: bold\">00</span>    # Gluon fusion\n",
       "\n",
       "</pre>\n"
      ],
      "text/plain": [
       "BLOCK     HIGGSLHC14   # HIGGS PRODUCTION CROSS SECTION AT LHC14 \u001b[1m[\u001b[0mPB\u001b[1m]\u001b[0m \u001b[1m(\u001b[0mRESCALED SM VALUES \n",
       "FROM SUSHI \u001b[1;36m1.5\u001b[0m.\u001b[1;36m0\u001b[0m\u001b[1m)\u001b[0m\n",
       "    \u001b[1;36m1\u001b[0m   \u001b[1;36m25\u001b[0m    \u001b[1;36m5.\u001b[0m45692335E+\u001b[1;36m01\u001b[0m    # Gluon fusion\n",
       "    \u001b[1;36m1\u001b[0m   \u001b[1;36m35\u001b[0m    \u001b[1;36m4.\u001b[0m99948986E+\u001b[1;36m00\u001b[0m    # Gluon fusion\n",
       "\n"
      ]
     },
     "metadata": {},
     "output_type": "display_data"
    }
   ],
   "source": [
    "print(slha['HIGGSLHC14'])"
   ]
  },
  {
   "cell_type": "code",
   "execution_count": 48,
   "id": "45b44a02",
   "metadata": {},
   "outputs": [
    {
     "data": {
      "text/html": [
       "<pre style=\"white-space:pre;overflow-x:auto;line-height:normal;font-family:Menlo,'DejaVu Sans Mono',consolas,'Courier New',monospace\">DECAY         <span style=\"color: #008080; text-decoration-color: #008080; font-weight: bold\">25</span>     <span style=\"color: #008080; text-decoration-color: #008080; font-weight: bold\">3.</span>21590487E-<span style=\"color: #008080; text-decoration-color: #008080; font-weight: bold\">03</span>    # HH_1\n",
       "#    BR                NDA      ID1      ID2   <span style=\"color: #808000; text-decoration-color: #808000\">...</span> \n",
       "     <span style=\"color: #008080; text-decoration-color: #008080; font-weight: bold\">2.</span>44856968E-<span style=\"color: #008080; text-decoration-color: #008080; font-weight: bold\">03</span>    <span style=\"color: #008080; text-decoration-color: #008080; font-weight: bold\">2</span>           <span style=\"color: #008080; text-decoration-color: #008080; font-weight: bold\">22</span>         <span style=\"color: #008080; text-decoration-color: #008080; font-weight: bold\">22</span>    # <span style=\"color: #800080; text-decoration-color: #800080; font-weight: bold\">BR</span><span style=\"font-weight: bold\">(</span>hh_1 -&gt; VP VP <span style=\"font-weight: bold\">)</span>\n",
       "     <span style=\"color: #008080; text-decoration-color: #008080; font-weight: bold\">8.</span>80776731E-<span style=\"color: #008080; text-decoration-color: #008080; font-weight: bold\">02</span>    <span style=\"color: #008080; text-decoration-color: #008080; font-weight: bold\">2</span>           <span style=\"color: #008080; text-decoration-color: #008080; font-weight: bold\">21</span>         <span style=\"color: #008080; text-decoration-color: #008080; font-weight: bold\">21</span>    # <span style=\"color: #800080; text-decoration-color: #800080; font-weight: bold\">BR</span><span style=\"font-weight: bold\">(</span>hh_1 -&gt; VG VG <span style=\"font-weight: bold\">)</span>\n",
       "     <span style=\"color: #008080; text-decoration-color: #008080; font-weight: bold\">1.</span>30807790E-<span style=\"color: #008080; text-decoration-color: #008080; font-weight: bold\">02</span>    <span style=\"color: #008080; text-decoration-color: #008080; font-weight: bold\">2</span>           <span style=\"color: #008080; text-decoration-color: #008080; font-weight: bold\">23</span>         <span style=\"color: #008080; text-decoration-color: #008080; font-weight: bold\">23</span>    # <span style=\"color: #800080; text-decoration-color: #800080; font-weight: bold\">BR</span><span style=\"font-weight: bold\">(</span>hh_1 -&gt; VZ VZ <span style=\"font-weight: bold\">)</span>\n",
       "     <span style=\"color: #008080; text-decoration-color: #008080; font-weight: bold\">1.</span>41770707E-<span style=\"color: #008080; text-decoration-color: #008080; font-weight: bold\">01</span>    <span style=\"color: #008080; text-decoration-color: #008080; font-weight: bold\">2</span>           <span style=\"color: #008080; text-decoration-color: #008080; font-weight: bold\">24</span>        <span style=\"color: #008080; text-decoration-color: #008080; font-weight: bold\">-24</span>    # <span style=\"color: #800080; text-decoration-color: #800080; font-weight: bold\">BR</span><span style=\"font-weight: bold\">(</span>hh_1 -&gt; VWm^* VWm_virt <span style=\"font-weight: bold\">)</span>\n",
       "     <span style=\"color: #008080; text-decoration-color: #008080; font-weight: bold\">2.</span>42288224E-<span style=\"color: #008080; text-decoration-color: #008080; font-weight: bold\">04</span>    <span style=\"color: #008080; text-decoration-color: #008080; font-weight: bold\">2</span>           <span style=\"color: #008080; text-decoration-color: #008080; font-weight: bold\">-3</span>          <span style=\"color: #008080; text-decoration-color: #008080; font-weight: bold\">3</span>    # <span style=\"color: #800080; text-decoration-color: #800080; font-weight: bold\">BR</span><span style=\"font-weight: bold\">(</span>hh_1 -&gt; Fd_2^* Fd_2 <span style=\"font-weight: bold\">)</span>\n",
       "     <span style=\"color: #008080; text-decoration-color: #008080; font-weight: bold\">6.</span>48814271E-<span style=\"color: #008080; text-decoration-color: #008080; font-weight: bold\">01</span>    <span style=\"color: #008080; text-decoration-color: #008080; font-weight: bold\">2</span>           <span style=\"color: #008080; text-decoration-color: #008080; font-weight: bold\">-5</span>          <span style=\"color: #008080; text-decoration-color: #008080; font-weight: bold\">5</span>    # <span style=\"color: #800080; text-decoration-color: #800080; font-weight: bold\">BR</span><span style=\"font-weight: bold\">(</span>hh_1 -&gt; Fd_3^* Fd_3 <span style=\"font-weight: bold\">)</span>\n",
       "     <span style=\"color: #008080; text-decoration-color: #008080; font-weight: bold\">2.</span>59082666E-<span style=\"color: #008080; text-decoration-color: #008080; font-weight: bold\">04</span>    <span style=\"color: #008080; text-decoration-color: #008080; font-weight: bold\">2</span>          <span style=\"color: #008080; text-decoration-color: #008080; font-weight: bold\">-13</span>         <span style=\"color: #008080; text-decoration-color: #008080; font-weight: bold\">13</span>    # <span style=\"color: #800080; text-decoration-color: #800080; font-weight: bold\">BR</span><span style=\"font-weight: bold\">(</span>hh_1 -&gt; Fe_2^* Fe_2 <span style=\"font-weight: bold\">)</span>\n",
       "     <span style=\"color: #008080; text-decoration-color: #008080; font-weight: bold\">7.</span>47769957E-<span style=\"color: #008080; text-decoration-color: #008080; font-weight: bold\">02</span>    <span style=\"color: #008080; text-decoration-color: #008080; font-weight: bold\">2</span>          <span style=\"color: #008080; text-decoration-color: #008080; font-weight: bold\">-15</span>         <span style=\"color: #008080; text-decoration-color: #008080; font-weight: bold\">15</span>    # <span style=\"color: #800080; text-decoration-color: #800080; font-weight: bold\">BR</span><span style=\"font-weight: bold\">(</span>hh_1 -&gt; Fe_3^* Fe_3 <span style=\"font-weight: bold\">)</span>\n",
       "     <span style=\"color: #008080; text-decoration-color: #008080; font-weight: bold\">3.</span>05288251E-<span style=\"color: #008080; text-decoration-color: #008080; font-weight: bold\">02</span>    <span style=\"color: #008080; text-decoration-color: #008080; font-weight: bold\">2</span>           <span style=\"color: #008080; text-decoration-color: #008080; font-weight: bold\">-4</span>          <span style=\"color: #008080; text-decoration-color: #008080; font-weight: bold\">4</span>    # <span style=\"color: #800080; text-decoration-color: #800080; font-weight: bold\">BR</span><span style=\"font-weight: bold\">(</span>hh_1 -&gt; Fu_2^* Fu_2 <span style=\"font-weight: bold\">)</span>\n",
       "\n",
       "</pre>\n"
      ],
      "text/plain": [
       "DECAY         \u001b[1;36m25\u001b[0m     \u001b[1;36m3.\u001b[0m21590487E-\u001b[1;36m03\u001b[0m    # HH_1\n",
       "#    BR                NDA      ID1      ID2   \u001b[33m...\u001b[0m \n",
       "     \u001b[1;36m2.\u001b[0m44856968E-\u001b[1;36m03\u001b[0m    \u001b[1;36m2\u001b[0m           \u001b[1;36m22\u001b[0m         \u001b[1;36m22\u001b[0m    # \u001b[1;35mBR\u001b[0m\u001b[1m(\u001b[0mhh_1 -> VP VP \u001b[1m)\u001b[0m\n",
       "     \u001b[1;36m8.\u001b[0m80776731E-\u001b[1;36m02\u001b[0m    \u001b[1;36m2\u001b[0m           \u001b[1;36m21\u001b[0m         \u001b[1;36m21\u001b[0m    # \u001b[1;35mBR\u001b[0m\u001b[1m(\u001b[0mhh_1 -> VG VG \u001b[1m)\u001b[0m\n",
       "     \u001b[1;36m1.\u001b[0m30807790E-\u001b[1;36m02\u001b[0m    \u001b[1;36m2\u001b[0m           \u001b[1;36m23\u001b[0m         \u001b[1;36m23\u001b[0m    # \u001b[1;35mBR\u001b[0m\u001b[1m(\u001b[0mhh_1 -> VZ VZ \u001b[1m)\u001b[0m\n",
       "     \u001b[1;36m1.\u001b[0m41770707E-\u001b[1;36m01\u001b[0m    \u001b[1;36m2\u001b[0m           \u001b[1;36m24\u001b[0m        \u001b[1;36m-24\u001b[0m    # \u001b[1;35mBR\u001b[0m\u001b[1m(\u001b[0mhh_1 -> VWm^* VWm_virt \u001b[1m)\u001b[0m\n",
       "     \u001b[1;36m2.\u001b[0m42288224E-\u001b[1;36m04\u001b[0m    \u001b[1;36m2\u001b[0m           \u001b[1;36m-3\u001b[0m          \u001b[1;36m3\u001b[0m    # \u001b[1;35mBR\u001b[0m\u001b[1m(\u001b[0mhh_1 -> Fd_2^* Fd_2 \u001b[1m)\u001b[0m\n",
       "     \u001b[1;36m6.\u001b[0m48814271E-\u001b[1;36m01\u001b[0m    \u001b[1;36m2\u001b[0m           \u001b[1;36m-5\u001b[0m          \u001b[1;36m5\u001b[0m    # \u001b[1;35mBR\u001b[0m\u001b[1m(\u001b[0mhh_1 -> Fd_3^* Fd_3 \u001b[1m)\u001b[0m\n",
       "     \u001b[1;36m2.\u001b[0m59082666E-\u001b[1;36m04\u001b[0m    \u001b[1;36m2\u001b[0m          \u001b[1;36m-13\u001b[0m         \u001b[1;36m13\u001b[0m    # \u001b[1;35mBR\u001b[0m\u001b[1m(\u001b[0mhh_1 -> Fe_2^* Fe_2 \u001b[1m)\u001b[0m\n",
       "     \u001b[1;36m7.\u001b[0m47769957E-\u001b[1;36m02\u001b[0m    \u001b[1;36m2\u001b[0m          \u001b[1;36m-15\u001b[0m         \u001b[1;36m15\u001b[0m    # \u001b[1;35mBR\u001b[0m\u001b[1m(\u001b[0mhh_1 -> Fe_3^* Fe_3 \u001b[1m)\u001b[0m\n",
       "     \u001b[1;36m3.\u001b[0m05288251E-\u001b[1;36m02\u001b[0m    \u001b[1;36m2\u001b[0m           \u001b[1;36m-4\u001b[0m          \u001b[1;36m4\u001b[0m    # \u001b[1;35mBR\u001b[0m\u001b[1m(\u001b[0mhh_1 -> Fu_2^* Fu_2 \u001b[1m)\u001b[0m\n",
       "\n"
      ]
     },
     "metadata": {},
     "output_type": "display_data"
    }
   ],
   "source": [
    "print(slha['DECAY 25'])"
   ]
  },
  {
   "cell_type": "code",
   "execution_count": 49,
   "id": "ad561eb8",
   "metadata": {},
   "outputs": [
    {
     "data": {
      "text/html": [
       "<pre style=\"white-space:pre;overflow-x:auto;line-height:normal;font-family:Menlo,'DejaVu Sans Mono',consolas,'Courier New',monospace\">DECAY         <span style=\"color: #008080; text-decoration-color: #008080; font-weight: bold\">35</span>     <span style=\"color: #008080; text-decoration-color: #008080; font-weight: bold\">1.</span>41003197E-<span style=\"color: #008080; text-decoration-color: #008080; font-weight: bold\">02</span>    # HH_2\n",
       "#    BR                NDA      ID1      ID2   <span style=\"color: #808000; text-decoration-color: #808000\">...</span> \n",
       "     <span style=\"color: #008080; text-decoration-color: #008080; font-weight: bold\">1.</span>42347197E-<span style=\"color: #008080; text-decoration-color: #008080; font-weight: bold\">04</span>    <span style=\"color: #008080; text-decoration-color: #008080; font-weight: bold\">2</span>           <span style=\"color: #008080; text-decoration-color: #008080; font-weight: bold\">22</span>         <span style=\"color: #008080; text-decoration-color: #008080; font-weight: bold\">22</span>    # <span style=\"color: #800080; text-decoration-color: #800080; font-weight: bold\">BR</span><span style=\"font-weight: bold\">(</span>hh_2 -&gt; VP VP <span style=\"font-weight: bold\">)</span>\n",
       "     <span style=\"color: #008080; text-decoration-color: #008080; font-weight: bold\">1.</span>83580588E-<span style=\"color: #008080; text-decoration-color: #008080; font-weight: bold\">03</span>    <span style=\"color: #008080; text-decoration-color: #008080; font-weight: bold\">2</span>           <span style=\"color: #008080; text-decoration-color: #008080; font-weight: bold\">21</span>         <span style=\"color: #008080; text-decoration-color: #008080; font-weight: bold\">21</span>    # <span style=\"color: #800080; text-decoration-color: #800080; font-weight: bold\">BR</span><span style=\"font-weight: bold\">(</span>hh_2 -&gt; VG VG <span style=\"font-weight: bold\">)</span>\n",
       "     <span style=\"color: #008080; text-decoration-color: #008080; font-weight: bold\">2.</span>40865776E-<span style=\"color: #008080; text-decoration-color: #008080; font-weight: bold\">02</span>    <span style=\"color: #008080; text-decoration-color: #008080; font-weight: bold\">2</span>           <span style=\"color: #008080; text-decoration-color: #008080; font-weight: bold\">23</span>         <span style=\"color: #008080; text-decoration-color: #008080; font-weight: bold\">23</span>    # <span style=\"color: #800080; text-decoration-color: #800080; font-weight: bold\">BR</span><span style=\"font-weight: bold\">(</span>hh_2 -&gt; VZ VZ <span style=\"font-weight: bold\">)</span>\n",
       "     <span style=\"color: #008080; text-decoration-color: #008080; font-weight: bold\">6.</span>93864638E-<span style=\"color: #008080; text-decoration-color: #008080; font-weight: bold\">03</span>    <span style=\"color: #008080; text-decoration-color: #008080; font-weight: bold\">2</span>           <span style=\"color: #008080; text-decoration-color: #008080; font-weight: bold\">-5</span>          <span style=\"color: #008080; text-decoration-color: #008080; font-weight: bold\">5</span>    # <span style=\"color: #800080; text-decoration-color: #800080; font-weight: bold\">BR</span><span style=\"font-weight: bold\">(</span>hh_2 -&gt; Fd_3^* Fd_3 <span style=\"font-weight: bold\">)</span>\n",
       "     <span style=\"color: #008080; text-decoration-color: #008080; font-weight: bold\">8.</span>47511492E-<span style=\"color: #008080; text-decoration-color: #008080; font-weight: bold\">04</span>    <span style=\"color: #008080; text-decoration-color: #008080; font-weight: bold\">2</span>          <span style=\"color: #008080; text-decoration-color: #008080; font-weight: bold\">-15</span>         <span style=\"color: #008080; text-decoration-color: #008080; font-weight: bold\">15</span>    # <span style=\"color: #800080; text-decoration-color: #800080; font-weight: bold\">BR</span><span style=\"font-weight: bold\">(</span>hh_2 -&gt; Fe_3^* Fe_3 <span style=\"font-weight: bold\">)</span>\n",
       "     <span style=\"color: #008080; text-decoration-color: #008080; font-weight: bold\">3.</span>23230898E-<span style=\"color: #008080; text-decoration-color: #008080; font-weight: bold\">04</span>    <span style=\"color: #008080; text-decoration-color: #008080; font-weight: bold\">2</span>           <span style=\"color: #008080; text-decoration-color: #008080; font-weight: bold\">-4</span>          <span style=\"color: #008080; text-decoration-color: #008080; font-weight: bold\">4</span>    # <span style=\"color: #800080; text-decoration-color: #800080; font-weight: bold\">BR</span><span style=\"font-weight: bold\">(</span>hh_2 -&gt; Fu_2^* Fu_2 <span style=\"font-weight: bold\">)</span>\n",
       "     <span style=\"color: #008080; text-decoration-color: #008080; font-weight: bold\">9.</span>65820350E-<span style=\"color: #008080; text-decoration-color: #008080; font-weight: bold\">01</span>    <span style=\"color: #008080; text-decoration-color: #008080; font-weight: bold\">2</span>          <span style=\"color: #008080; text-decoration-color: #008080; font-weight: bold\">-24</span>         <span style=\"color: #008080; text-decoration-color: #008080; font-weight: bold\">24</span>    # <span style=\"color: #800080; text-decoration-color: #800080; font-weight: bold\">BR</span><span style=\"font-weight: bold\">(</span>hh_2 -&gt; VWm VWm^* <span style=\"font-weight: bold\">)</span>\n",
       "\n",
       "</pre>\n"
      ],
      "text/plain": [
       "DECAY         \u001b[1;36m35\u001b[0m     \u001b[1;36m1.\u001b[0m41003197E-\u001b[1;36m02\u001b[0m    # HH_2\n",
       "#    BR                NDA      ID1      ID2   \u001b[33m...\u001b[0m \n",
       "     \u001b[1;36m1.\u001b[0m42347197E-\u001b[1;36m04\u001b[0m    \u001b[1;36m2\u001b[0m           \u001b[1;36m22\u001b[0m         \u001b[1;36m22\u001b[0m    # \u001b[1;35mBR\u001b[0m\u001b[1m(\u001b[0mhh_2 -> VP VP \u001b[1m)\u001b[0m\n",
       "     \u001b[1;36m1.\u001b[0m83580588E-\u001b[1;36m03\u001b[0m    \u001b[1;36m2\u001b[0m           \u001b[1;36m21\u001b[0m         \u001b[1;36m21\u001b[0m    # \u001b[1;35mBR\u001b[0m\u001b[1m(\u001b[0mhh_2 -> VG VG \u001b[1m)\u001b[0m\n",
       "     \u001b[1;36m2.\u001b[0m40865776E-\u001b[1;36m02\u001b[0m    \u001b[1;36m2\u001b[0m           \u001b[1;36m23\u001b[0m         \u001b[1;36m23\u001b[0m    # \u001b[1;35mBR\u001b[0m\u001b[1m(\u001b[0mhh_2 -> VZ VZ \u001b[1m)\u001b[0m\n",
       "     \u001b[1;36m6.\u001b[0m93864638E-\u001b[1;36m03\u001b[0m    \u001b[1;36m2\u001b[0m           \u001b[1;36m-5\u001b[0m          \u001b[1;36m5\u001b[0m    # \u001b[1;35mBR\u001b[0m\u001b[1m(\u001b[0mhh_2 -> Fd_3^* Fd_3 \u001b[1m)\u001b[0m\n",
       "     \u001b[1;36m8.\u001b[0m47511492E-\u001b[1;36m04\u001b[0m    \u001b[1;36m2\u001b[0m          \u001b[1;36m-15\u001b[0m         \u001b[1;36m15\u001b[0m    # \u001b[1;35mBR\u001b[0m\u001b[1m(\u001b[0mhh_2 -> Fe_3^* Fe_3 \u001b[1m)\u001b[0m\n",
       "     \u001b[1;36m3.\u001b[0m23230898E-\u001b[1;36m04\u001b[0m    \u001b[1;36m2\u001b[0m           \u001b[1;36m-4\u001b[0m          \u001b[1;36m4\u001b[0m    # \u001b[1;35mBR\u001b[0m\u001b[1m(\u001b[0mhh_2 -> Fu_2^* Fu_2 \u001b[1m)\u001b[0m\n",
       "     \u001b[1;36m9.\u001b[0m65820350E-\u001b[1;36m01\u001b[0m    \u001b[1;36m2\u001b[0m          \u001b[1;36m-24\u001b[0m         \u001b[1;36m24\u001b[0m    # \u001b[1;35mBR\u001b[0m\u001b[1m(\u001b[0mhh_2 -> VWm VWm^* \u001b[1m)\u001b[0m\n",
       "\n"
      ]
     },
     "metadata": {},
     "output_type": "display_data"
    }
   ],
   "source": [
    "print(slha['DECAY 35'])"
   ]
  },
  {
   "cell_type": "code",
   "execution_count": 50,
   "id": "602d5eeb",
   "metadata": {},
   "outputs": [
    {
     "data": {
      "text/html": [
       "<pre style=\"white-space:pre;overflow-x:auto;line-height:normal;font-family:Menlo,'DejaVu Sans Mono',consolas,'Courier New',monospace\">BLOCK     MASS   # MASS SPECTRUM\n",
       "    <span style=\"color: #008080; text-decoration-color: #008080; font-weight: bold\">1000001</span>    <span style=\"color: #008080; text-decoration-color: #008080; font-weight: bold\">5.</span>99117543E+<span style=\"color: #008080; text-decoration-color: #008080; font-weight: bold\">03</span>    # Sd_1\n",
       "    <span style=\"color: #008080; text-decoration-color: #008080; font-weight: bold\">1000003</span>    <span style=\"color: #008080; text-decoration-color: #008080; font-weight: bold\">6.</span>02178014E+<span style=\"color: #008080; text-decoration-color: #008080; font-weight: bold\">03</span>    # Sd_2\n",
       "    <span style=\"color: #008080; text-decoration-color: #008080; font-weight: bold\">1000005</span>    <span style=\"color: #008080; text-decoration-color: #008080; font-weight: bold\">6.</span>16062150E+<span style=\"color: #008080; text-decoration-color: #008080; font-weight: bold\">03</span>    # Sd_3\n",
       "    <span style=\"color: #008080; text-decoration-color: #008080; font-weight: bold\">2000001</span>    <span style=\"color: #008080; text-decoration-color: #008080; font-weight: bold\">6.</span>16067683E+<span style=\"color: #008080; text-decoration-color: #008080; font-weight: bold\">03</span>    # Sd_4\n",
       "    <span style=\"color: #008080; text-decoration-color: #008080; font-weight: bold\">2000003</span>    <span style=\"color: #008080; text-decoration-color: #008080; font-weight: bold\">6.</span>48792059E+<span style=\"color: #008080; text-decoration-color: #008080; font-weight: bold\">03</span>    # Sd_5\n",
       "    <span style=\"color: #008080; text-decoration-color: #008080; font-weight: bold\">2000005</span>    <span style=\"color: #008080; text-decoration-color: #008080; font-weight: bold\">6.</span>48805283E+<span style=\"color: #008080; text-decoration-color: #008080; font-weight: bold\">03</span>    # Sd_6\n",
       "    <span style=\"color: #008080; text-decoration-color: #008080; font-weight: bold\">1000002</span>    <span style=\"color: #008080; text-decoration-color: #008080; font-weight: bold\">5.</span>28343189E+<span style=\"color: #008080; text-decoration-color: #008080; font-weight: bold\">03</span>    # Su_1\n",
       "    <span style=\"color: #008080; text-decoration-color: #008080; font-weight: bold\">1000004</span>    <span style=\"color: #008080; text-decoration-color: #008080; font-weight: bold\">6.</span>00997712E+<span style=\"color: #008080; text-decoration-color: #008080; font-weight: bold\">03</span>    # Su_2\n",
       "    <span style=\"color: #008080; text-decoration-color: #008080; font-weight: bold\">1000006</span>    <span style=\"color: #008080; text-decoration-color: #008080; font-weight: bold\">6.</span>17275648E+<span style=\"color: #008080; text-decoration-color: #008080; font-weight: bold\">03</span>    # Su_3\n",
       "    <span style=\"color: #008080; text-decoration-color: #008080; font-weight: bold\">2000002</span>    <span style=\"color: #008080; text-decoration-color: #008080; font-weight: bold\">6.</span>17277068E+<span style=\"color: #008080; text-decoration-color: #008080; font-weight: bold\">03</span>    # Su_4\n",
       "    <span style=\"color: #008080; text-decoration-color: #008080; font-weight: bold\">2000004</span>    <span style=\"color: #008080; text-decoration-color: #008080; font-weight: bold\">6.</span>48742478E+<span style=\"color: #008080; text-decoration-color: #008080; font-weight: bold\">03</span>    # Su_5\n",
       "    <span style=\"color: #008080; text-decoration-color: #008080; font-weight: bold\">2000006</span>    <span style=\"color: #008080; text-decoration-color: #008080; font-weight: bold\">6.</span>48755743E+<span style=\"color: #008080; text-decoration-color: #008080; font-weight: bold\">03</span>    # Su_6\n",
       "    <span style=\"color: #008080; text-decoration-color: #008080; font-weight: bold\">1000011</span>    <span style=\"color: #008080; text-decoration-color: #008080; font-weight: bold\">1.</span>32515358E+<span style=\"color: #008080; text-decoration-color: #008080; font-weight: bold\">03</span>    # Se_1\n",
       "    <span style=\"color: #008080; text-decoration-color: #008080; font-weight: bold\">1000013</span>    <span style=\"color: #008080; text-decoration-color: #008080; font-weight: bold\">1.</span>51564489E+<span style=\"color: #008080; text-decoration-color: #008080; font-weight: bold\">03</span>    # Se_2\n",
       "    <span style=\"color: #008080; text-decoration-color: #008080; font-weight: bold\">1000015</span>    <span style=\"color: #008080; text-decoration-color: #008080; font-weight: bold\">1.</span>51628427E+<span style=\"color: #008080; text-decoration-color: #008080; font-weight: bold\">03</span>    # Se_3\n",
       "    <span style=\"color: #008080; text-decoration-color: #008080; font-weight: bold\">2000011</span>    <span style=\"color: #008080; text-decoration-color: #008080; font-weight: bold\">2.</span>50199893E+<span style=\"color: #008080; text-decoration-color: #008080; font-weight: bold\">03</span>    # Se_4\n",
       "    <span style=\"color: #008080; text-decoration-color: #008080; font-weight: bold\">2000013</span>    <span style=\"color: #008080; text-decoration-color: #008080; font-weight: bold\">2.</span>55473094E+<span style=\"color: #008080; text-decoration-color: #008080; font-weight: bold\">03</span>    # Se_5\n",
       "    <span style=\"color: #008080; text-decoration-color: #008080; font-weight: bold\">2000015</span>    <span style=\"color: #008080; text-decoration-color: #008080; font-weight: bold\">2.</span>55491814E+<span style=\"color: #008080; text-decoration-color: #008080; font-weight: bold\">03</span>    # Se_6\n",
       "    <span style=\"color: #008080; text-decoration-color: #008080; font-weight: bold\">1000012</span>    <span style=\"color: #008080; text-decoration-color: #008080; font-weight: bold\">1.</span>52363209E+<span style=\"color: #008080; text-decoration-color: #008080; font-weight: bold\">03</span>    # SvRe_1\n",
       "    <span style=\"color: #008080; text-decoration-color: #008080; font-weight: bold\">1000014</span>    <span style=\"color: #008080; text-decoration-color: #008080; font-weight: bold\">1.</span>52363209E+<span style=\"color: #008080; text-decoration-color: #008080; font-weight: bold\">03</span>    # SvRe_2\n",
       "    <span style=\"color: #008080; text-decoration-color: #008080; font-weight: bold\">1000016</span>    <span style=\"color: #008080; text-decoration-color: #008080; font-weight: bold\">1.</span>52363209E+<span style=\"color: #008080; text-decoration-color: #008080; font-weight: bold\">03</span>    # SvRe_3\n",
       "    <span style=\"color: #008080; text-decoration-color: #008080; font-weight: bold\">2000012</span>    <span style=\"color: #008080; text-decoration-color: #008080; font-weight: bold\">2.</span>49921859E+<span style=\"color: #008080; text-decoration-color: #008080; font-weight: bold\">03</span>    # SvRe_4\n",
       "    <span style=\"color: #008080; text-decoration-color: #008080; font-weight: bold\">2000014</span>    <span style=\"color: #008080; text-decoration-color: #008080; font-weight: bold\">2.</span>55308587E+<span style=\"color: #008080; text-decoration-color: #008080; font-weight: bold\">03</span>    # SvRe_5\n",
       "    <span style=\"color: #008080; text-decoration-color: #008080; font-weight: bold\">2000016</span>    <span style=\"color: #008080; text-decoration-color: #008080; font-weight: bold\">2.</span>55327727E+<span style=\"color: #008080; text-decoration-color: #008080; font-weight: bold\">03</span>    # SvRe_6\n",
       "    <span style=\"color: #008080; text-decoration-color: #008080; font-weight: bold\">4000012</span>    <span style=\"color: #008080; text-decoration-color: #008080; font-weight: bold\">2.</span>41201327E+<span style=\"color: #008080; text-decoration-color: #008080; font-weight: bold\">03</span>    # SvIm_1\n",
       "    <span style=\"color: #008080; text-decoration-color: #008080; font-weight: bold\">4000014</span>    <span style=\"color: #008080; text-decoration-color: #008080; font-weight: bold\">2.</span>41201327E+<span style=\"color: #008080; text-decoration-color: #008080; font-weight: bold\">03</span>    # SvIm_2\n",
       "    <span style=\"color: #008080; text-decoration-color: #008080; font-weight: bold\">4000016</span>    <span style=\"color: #008080; text-decoration-color: #008080; font-weight: bold\">2.</span>41201327E+<span style=\"color: #008080; text-decoration-color: #008080; font-weight: bold\">03</span>    # SvIm_3\n",
       "    <span style=\"color: #008080; text-decoration-color: #008080; font-weight: bold\">5000012</span>    <span style=\"color: #008080; text-decoration-color: #008080; font-weight: bold\">2.</span>49921859E+<span style=\"color: #008080; text-decoration-color: #008080; font-weight: bold\">03</span>    # SvIm_4\n",
       "    <span style=\"color: #008080; text-decoration-color: #008080; font-weight: bold\">5000014</span>    <span style=\"color: #008080; text-decoration-color: #008080; font-weight: bold\">2.</span>55308587E+<span style=\"color: #008080; text-decoration-color: #008080; font-weight: bold\">03</span>    # SvIm_5\n",
       "    <span style=\"color: #008080; text-decoration-color: #008080; font-weight: bold\">5000016</span>    <span style=\"color: #008080; text-decoration-color: #008080; font-weight: bold\">2.</span>55327727E+<span style=\"color: #008080; text-decoration-color: #008080; font-weight: bold\">03</span>    # SvIm_6\n",
       "         <span style=\"color: #008080; text-decoration-color: #008080; font-weight: bold\">25</span>    <span style=\"color: #008080; text-decoration-color: #008080; font-weight: bold\">1.</span>20131013E+<span style=\"color: #008080; text-decoration-color: #008080; font-weight: bold\">02</span>    # hh_1\n",
       "         <span style=\"color: #008080; text-decoration-color: #008080; font-weight: bold\">35</span>    <span style=\"color: #008080; text-decoration-color: #008080; font-weight: bold\">1.</span>70914294E+<span style=\"color: #008080; text-decoration-color: #008080; font-weight: bold\">02</span>    # hh_2\n",
       "    <span style=\"color: #008080; text-decoration-color: #008080; font-weight: bold\">9900025</span>    <span style=\"color: #008080; text-decoration-color: #008080; font-weight: bold\">3.</span>53167276E+<span style=\"color: #008080; text-decoration-color: #008080; font-weight: bold\">03</span>    # hh_3\n",
       "    <span style=\"color: #008080; text-decoration-color: #008080; font-weight: bold\">9900035</span>    <span style=\"color: #008080; text-decoration-color: #008080; font-weight: bold\">3.</span>85373818E+<span style=\"color: #008080; text-decoration-color: #008080; font-weight: bold\">03</span>    # hh_4\n",
       "         <span style=\"color: #008080; text-decoration-color: #008080; font-weight: bold\">36</span>    <span style=\"color: #008080; text-decoration-color: #008080; font-weight: bold\">2.</span>96460762E+<span style=\"color: #008080; text-decoration-color: #008080; font-weight: bold\">03</span>    # Ah_3\n",
       "    <span style=\"color: #008080; text-decoration-color: #008080; font-weight: bold\">9900036</span>    <span style=\"color: #008080; text-decoration-color: #008080; font-weight: bold\">3.</span>53165791E+<span style=\"color: #008080; text-decoration-color: #008080; font-weight: bold\">03</span>    # Ah_4\n",
       "         <span style=\"color: #008080; text-decoration-color: #008080; font-weight: bold\">37</span>    <span style=\"color: #008080; text-decoration-color: #008080; font-weight: bold\">3.</span>52917661E+<span style=\"color: #008080; text-decoration-color: #008080; font-weight: bold\">03</span>    # Hpm_2\n",
       "         <span style=\"color: #008080; text-decoration-color: #008080; font-weight: bold\">22</span>    <span style=\"color: #008080; text-decoration-color: #008080; font-weight: bold\">0.</span>00000000E+<span style=\"color: #008080; text-decoration-color: #008080; font-weight: bold\">00</span>    # VP\n",
       "         <span style=\"color: #008080; text-decoration-color: #008080; font-weight: bold\">23</span>    <span style=\"color: #008080; text-decoration-color: #008080; font-weight: bold\">9.</span>11887000E+<span style=\"color: #008080; text-decoration-color: #008080; font-weight: bold\">01</span>    # VZ\n",
       "         <span style=\"color: #008080; text-decoration-color: #008080; font-weight: bold\">21</span>    <span style=\"color: #008080; text-decoration-color: #008080; font-weight: bold\">0.</span>00000000E+<span style=\"color: #008080; text-decoration-color: #008080; font-weight: bold\">00</span>    # VG\n",
       "         <span style=\"color: #008080; text-decoration-color: #008080; font-weight: bold\">24</span>    <span style=\"color: #008080; text-decoration-color: #008080; font-weight: bold\">8.</span>03616186E+<span style=\"color: #008080; text-decoration-color: #008080; font-weight: bold\">01</span>    # VWm\n",
       "          <span style=\"color: #008080; text-decoration-color: #008080; font-weight: bold\">1</span>    <span style=\"color: #008080; text-decoration-color: #008080; font-weight: bold\">5.</span>00000000E-<span style=\"color: #008080; text-decoration-color: #008080; font-weight: bold\">03</span>    # Fd_1\n",
       "          <span style=\"color: #008080; text-decoration-color: #008080; font-weight: bold\">3</span>    <span style=\"color: #008080; text-decoration-color: #008080; font-weight: bold\">9.</span>50000000E-<span style=\"color: #008080; text-decoration-color: #008080; font-weight: bold\">02</span>    # Fd_2\n",
       "          <span style=\"color: #008080; text-decoration-color: #008080; font-weight: bold\">5</span>    <span style=\"color: #008080; text-decoration-color: #008080; font-weight: bold\">4.</span>18000000E+<span style=\"color: #008080; text-decoration-color: #008080; font-weight: bold\">00</span>    # Fd_3\n",
       "          <span style=\"color: #008080; text-decoration-color: #008080; font-weight: bold\">2</span>    <span style=\"color: #008080; text-decoration-color: #008080; font-weight: bold\">2.</span>50000000E-<span style=\"color: #008080; text-decoration-color: #008080; font-weight: bold\">03</span>    # Fu_1\n",
       "          <span style=\"color: #008080; text-decoration-color: #008080; font-weight: bold\">4</span>    <span style=\"color: #008080; text-decoration-color: #008080; font-weight: bold\">1.</span>27000000E+<span style=\"color: #008080; text-decoration-color: #008080; font-weight: bold\">00</span>    # Fu_2\n",
       "          <span style=\"color: #008080; text-decoration-color: #008080; font-weight: bold\">6</span>    <span style=\"color: #008080; text-decoration-color: #008080; font-weight: bold\">1.</span>73500000E+<span style=\"color: #008080; text-decoration-color: #008080; font-weight: bold\">02</span>    # Fu_3\n",
       "         <span style=\"color: #008080; text-decoration-color: #008080; font-weight: bold\">11</span>    <span style=\"color: #008080; text-decoration-color: #008080; font-weight: bold\">5.</span>10998930E-<span style=\"color: #008080; text-decoration-color: #008080; font-weight: bold\">04</span>    # Fe_1\n",
       "         <span style=\"color: #008080; text-decoration-color: #008080; font-weight: bold\">13</span>    <span style=\"color: #008080; text-decoration-color: #008080; font-weight: bold\">1.</span>05658372E-<span style=\"color: #008080; text-decoration-color: #008080; font-weight: bold\">01</span>    # Fe_2\n",
       "         <span style=\"color: #008080; text-decoration-color: #008080; font-weight: bold\">15</span>    <span style=\"color: #008080; text-decoration-color: #008080; font-weight: bold\">1.</span>77669000E+<span style=\"color: #008080; text-decoration-color: #008080; font-weight: bold\">00</span>    # Fe_3\n",
       "         <span style=\"color: #008080; text-decoration-color: #008080; font-weight: bold\">12</span>    <span style=\"color: #008080; text-decoration-color: #008080; font-weight: bold\">1.</span>26083277E-<span style=\"color: #008080; text-decoration-color: #008080; font-weight: bold\">07</span>    # Fv_1\n",
       "         <span style=\"color: #008080; text-decoration-color: #008080; font-weight: bold\">14</span>    <span style=\"color: #008080; text-decoration-color: #008080; font-weight: bold\">1.</span>26386387E-<span style=\"color: #008080; text-decoration-color: #008080; font-weight: bold\">07</span>    # Fv_2\n",
       "         <span style=\"color: #008080; text-decoration-color: #008080; font-weight: bold\">16</span>    <span style=\"color: #008080; text-decoration-color: #008080; font-weight: bold\">1.</span>26387419E-<span style=\"color: #008080; text-decoration-color: #008080; font-weight: bold\">07</span>    # Fv_3\n",
       "        <span style=\"color: #008080; text-decoration-color: #008080; font-weight: bold\">112</span>    <span style=\"color: #008080; text-decoration-color: #008080; font-weight: bold\">2.</span>04809117E+<span style=\"color: #008080; text-decoration-color: #008080; font-weight: bold\">03</span>    # Fv_4\n",
       "        <span style=\"color: #008080; text-decoration-color: #008080; font-weight: bold\">114</span>    <span style=\"color: #008080; text-decoration-color: #008080; font-weight: bold\">2.</span>04809117E+<span style=\"color: #008080; text-decoration-color: #008080; font-weight: bold\">03</span>    # Fv_5\n",
       "        <span style=\"color: #008080; text-decoration-color: #008080; font-weight: bold\">116</span>    <span style=\"color: #008080; text-decoration-color: #008080; font-weight: bold\">2.</span>04809117E+<span style=\"color: #008080; text-decoration-color: #008080; font-weight: bold\">03</span>    # Fv_6\n",
       "    <span style=\"color: #008080; text-decoration-color: #008080; font-weight: bold\">1000021</span>    <span style=\"color: #008080; text-decoration-color: #008080; font-weight: bold\">7.</span>21791481E+<span style=\"color: #008080; text-decoration-color: #008080; font-weight: bold\">03</span>    # Glu\n",
       "    <span style=\"color: #008080; text-decoration-color: #008080; font-weight: bold\">1000024</span>    <span style=\"color: #008080; text-decoration-color: #008080; font-weight: bold\">2.</span>94096092E+<span style=\"color: #008080; text-decoration-color: #008080; font-weight: bold\">03</span>    # Cha_1\n",
       "    <span style=\"color: #008080; text-decoration-color: #008080; font-weight: bold\">1000037</span>    <span style=\"color: #008080; text-decoration-color: #008080; font-weight: bold\">3.</span>10865206E+<span style=\"color: #008080; text-decoration-color: #008080; font-weight: bold\">03</span>    # Cha_2\n",
       "         <span style=\"color: #008080; text-decoration-color: #008080; font-weight: bold\">31</span>    <span style=\"color: #008080; text-decoration-color: #008080; font-weight: bold\">2.</span>53928450E+<span style=\"color: #008080; text-decoration-color: #008080; font-weight: bold\">03</span>    # VZp\n",
       "    <span style=\"color: #008080; text-decoration-color: #008080; font-weight: bold\">1000022</span>    <span style=\"color: #008080; text-decoration-color: #008080; font-weight: bold\">1.</span>00668692E+<span style=\"color: #008080; text-decoration-color: #008080; font-weight: bold\">03</span>    # Chi_1\n",
       "    <span style=\"color: #008080; text-decoration-color: #008080; font-weight: bold\">1000023</span>    <span style=\"color: #008080; text-decoration-color: #008080; font-weight: bold\">1.</span>29663125E+<span style=\"color: #008080; text-decoration-color: #008080; font-weight: bold\">03</span>    # Chi_2\n",
       "    <span style=\"color: #008080; text-decoration-color: #008080; font-weight: bold\">1000025</span>    <span style=\"color: #008080; text-decoration-color: #008080; font-weight: bold\">1.</span>72603799E+<span style=\"color: #008080; text-decoration-color: #008080; font-weight: bold\">03</span>    # Chi_3\n",
       "    <span style=\"color: #008080; text-decoration-color: #008080; font-weight: bold\">1000035</span>    <span style=\"color: #008080; text-decoration-color: #008080; font-weight: bold\">2.</span>94153947E+<span style=\"color: #008080; text-decoration-color: #008080; font-weight: bold\">03</span>    # Chi_4\n",
       "    <span style=\"color: #008080; text-decoration-color: #008080; font-weight: bold\">1000032</span>    <span style=\"color: #008080; text-decoration-color: #008080; font-weight: bold\">3.</span>08694588E+<span style=\"color: #008080; text-decoration-color: #008080; font-weight: bold\">03</span>    # Chi_5\n",
       "    <span style=\"color: #008080; text-decoration-color: #008080; font-weight: bold\">1000036</span>    <span style=\"color: #008080; text-decoration-color: #008080; font-weight: bold\">3.</span>10881255E+<span style=\"color: #008080; text-decoration-color: #008080; font-weight: bold\">03</span>    # Chi_6\n",
       "    <span style=\"color: #008080; text-decoration-color: #008080; font-weight: bold\">1000039</span>    <span style=\"color: #008080; text-decoration-color: #008080; font-weight: bold\">3.</span>81000710E+<span style=\"color: #008080; text-decoration-color: #008080; font-weight: bold\">03</span>    # Chi_7\n",
       "\n",
       "</pre>\n"
      ],
      "text/plain": [
       "BLOCK     MASS   # MASS SPECTRUM\n",
       "    \u001b[1;36m1000001\u001b[0m    \u001b[1;36m5.\u001b[0m99117543E+\u001b[1;36m03\u001b[0m    # Sd_1\n",
       "    \u001b[1;36m1000003\u001b[0m    \u001b[1;36m6.\u001b[0m02178014E+\u001b[1;36m03\u001b[0m    # Sd_2\n",
       "    \u001b[1;36m1000005\u001b[0m    \u001b[1;36m6.\u001b[0m16062150E+\u001b[1;36m03\u001b[0m    # Sd_3\n",
       "    \u001b[1;36m2000001\u001b[0m    \u001b[1;36m6.\u001b[0m16067683E+\u001b[1;36m03\u001b[0m    # Sd_4\n",
       "    \u001b[1;36m2000003\u001b[0m    \u001b[1;36m6.\u001b[0m48792059E+\u001b[1;36m03\u001b[0m    # Sd_5\n",
       "    \u001b[1;36m2000005\u001b[0m    \u001b[1;36m6.\u001b[0m48805283E+\u001b[1;36m03\u001b[0m    # Sd_6\n",
       "    \u001b[1;36m1000002\u001b[0m    \u001b[1;36m5.\u001b[0m28343189E+\u001b[1;36m03\u001b[0m    # Su_1\n",
       "    \u001b[1;36m1000004\u001b[0m    \u001b[1;36m6.\u001b[0m00997712E+\u001b[1;36m03\u001b[0m    # Su_2\n",
       "    \u001b[1;36m1000006\u001b[0m    \u001b[1;36m6.\u001b[0m17275648E+\u001b[1;36m03\u001b[0m    # Su_3\n",
       "    \u001b[1;36m2000002\u001b[0m    \u001b[1;36m6.\u001b[0m17277068E+\u001b[1;36m03\u001b[0m    # Su_4\n",
       "    \u001b[1;36m2000004\u001b[0m    \u001b[1;36m6.\u001b[0m48742478E+\u001b[1;36m03\u001b[0m    # Su_5\n",
       "    \u001b[1;36m2000006\u001b[0m    \u001b[1;36m6.\u001b[0m48755743E+\u001b[1;36m03\u001b[0m    # Su_6\n",
       "    \u001b[1;36m1000011\u001b[0m    \u001b[1;36m1.\u001b[0m32515358E+\u001b[1;36m03\u001b[0m    # Se_1\n",
       "    \u001b[1;36m1000013\u001b[0m    \u001b[1;36m1.\u001b[0m51564489E+\u001b[1;36m03\u001b[0m    # Se_2\n",
       "    \u001b[1;36m1000015\u001b[0m    \u001b[1;36m1.\u001b[0m51628427E+\u001b[1;36m03\u001b[0m    # Se_3\n",
       "    \u001b[1;36m2000011\u001b[0m    \u001b[1;36m2.\u001b[0m50199893E+\u001b[1;36m03\u001b[0m    # Se_4\n",
       "    \u001b[1;36m2000013\u001b[0m    \u001b[1;36m2.\u001b[0m55473094E+\u001b[1;36m03\u001b[0m    # Se_5\n",
       "    \u001b[1;36m2000015\u001b[0m    \u001b[1;36m2.\u001b[0m55491814E+\u001b[1;36m03\u001b[0m    # Se_6\n",
       "    \u001b[1;36m1000012\u001b[0m    \u001b[1;36m1.\u001b[0m52363209E+\u001b[1;36m03\u001b[0m    # SvRe_1\n",
       "    \u001b[1;36m1000014\u001b[0m    \u001b[1;36m1.\u001b[0m52363209E+\u001b[1;36m03\u001b[0m    # SvRe_2\n",
       "    \u001b[1;36m1000016\u001b[0m    \u001b[1;36m1.\u001b[0m52363209E+\u001b[1;36m03\u001b[0m    # SvRe_3\n",
       "    \u001b[1;36m2000012\u001b[0m    \u001b[1;36m2.\u001b[0m49921859E+\u001b[1;36m03\u001b[0m    # SvRe_4\n",
       "    \u001b[1;36m2000014\u001b[0m    \u001b[1;36m2.\u001b[0m55308587E+\u001b[1;36m03\u001b[0m    # SvRe_5\n",
       "    \u001b[1;36m2000016\u001b[0m    \u001b[1;36m2.\u001b[0m55327727E+\u001b[1;36m03\u001b[0m    # SvRe_6\n",
       "    \u001b[1;36m4000012\u001b[0m    \u001b[1;36m2.\u001b[0m41201327E+\u001b[1;36m03\u001b[0m    # SvIm_1\n",
       "    \u001b[1;36m4000014\u001b[0m    \u001b[1;36m2.\u001b[0m41201327E+\u001b[1;36m03\u001b[0m    # SvIm_2\n",
       "    \u001b[1;36m4000016\u001b[0m    \u001b[1;36m2.\u001b[0m41201327E+\u001b[1;36m03\u001b[0m    # SvIm_3\n",
       "    \u001b[1;36m5000012\u001b[0m    \u001b[1;36m2.\u001b[0m49921859E+\u001b[1;36m03\u001b[0m    # SvIm_4\n",
       "    \u001b[1;36m5000014\u001b[0m    \u001b[1;36m2.\u001b[0m55308587E+\u001b[1;36m03\u001b[0m    # SvIm_5\n",
       "    \u001b[1;36m5000016\u001b[0m    \u001b[1;36m2.\u001b[0m55327727E+\u001b[1;36m03\u001b[0m    # SvIm_6\n",
       "         \u001b[1;36m25\u001b[0m    \u001b[1;36m1.\u001b[0m20131013E+\u001b[1;36m02\u001b[0m    # hh_1\n",
       "         \u001b[1;36m35\u001b[0m    \u001b[1;36m1.\u001b[0m70914294E+\u001b[1;36m02\u001b[0m    # hh_2\n",
       "    \u001b[1;36m9900025\u001b[0m    \u001b[1;36m3.\u001b[0m53167276E+\u001b[1;36m03\u001b[0m    # hh_3\n",
       "    \u001b[1;36m9900035\u001b[0m    \u001b[1;36m3.\u001b[0m85373818E+\u001b[1;36m03\u001b[0m    # hh_4\n",
       "         \u001b[1;36m36\u001b[0m    \u001b[1;36m2.\u001b[0m96460762E+\u001b[1;36m03\u001b[0m    # Ah_3\n",
       "    \u001b[1;36m9900036\u001b[0m    \u001b[1;36m3.\u001b[0m53165791E+\u001b[1;36m03\u001b[0m    # Ah_4\n",
       "         \u001b[1;36m37\u001b[0m    \u001b[1;36m3.\u001b[0m52917661E+\u001b[1;36m03\u001b[0m    # Hpm_2\n",
       "         \u001b[1;36m22\u001b[0m    \u001b[1;36m0.\u001b[0m00000000E+\u001b[1;36m00\u001b[0m    # VP\n",
       "         \u001b[1;36m23\u001b[0m    \u001b[1;36m9.\u001b[0m11887000E+\u001b[1;36m01\u001b[0m    # VZ\n",
       "         \u001b[1;36m21\u001b[0m    \u001b[1;36m0.\u001b[0m00000000E+\u001b[1;36m00\u001b[0m    # VG\n",
       "         \u001b[1;36m24\u001b[0m    \u001b[1;36m8.\u001b[0m03616186E+\u001b[1;36m01\u001b[0m    # VWm\n",
       "          \u001b[1;36m1\u001b[0m    \u001b[1;36m5.\u001b[0m00000000E-\u001b[1;36m03\u001b[0m    # Fd_1\n",
       "          \u001b[1;36m3\u001b[0m    \u001b[1;36m9.\u001b[0m50000000E-\u001b[1;36m02\u001b[0m    # Fd_2\n",
       "          \u001b[1;36m5\u001b[0m    \u001b[1;36m4.\u001b[0m18000000E+\u001b[1;36m00\u001b[0m    # Fd_3\n",
       "          \u001b[1;36m2\u001b[0m    \u001b[1;36m2.\u001b[0m50000000E-\u001b[1;36m03\u001b[0m    # Fu_1\n",
       "          \u001b[1;36m4\u001b[0m    \u001b[1;36m1.\u001b[0m27000000E+\u001b[1;36m00\u001b[0m    # Fu_2\n",
       "          \u001b[1;36m6\u001b[0m    \u001b[1;36m1.\u001b[0m73500000E+\u001b[1;36m02\u001b[0m    # Fu_3\n",
       "         \u001b[1;36m11\u001b[0m    \u001b[1;36m5.\u001b[0m10998930E-\u001b[1;36m04\u001b[0m    # Fe_1\n",
       "         \u001b[1;36m13\u001b[0m    \u001b[1;36m1.\u001b[0m05658372E-\u001b[1;36m01\u001b[0m    # Fe_2\n",
       "         \u001b[1;36m15\u001b[0m    \u001b[1;36m1.\u001b[0m77669000E+\u001b[1;36m00\u001b[0m    # Fe_3\n",
       "         \u001b[1;36m12\u001b[0m    \u001b[1;36m1.\u001b[0m26083277E-\u001b[1;36m07\u001b[0m    # Fv_1\n",
       "         \u001b[1;36m14\u001b[0m    \u001b[1;36m1.\u001b[0m26386387E-\u001b[1;36m07\u001b[0m    # Fv_2\n",
       "         \u001b[1;36m16\u001b[0m    \u001b[1;36m1.\u001b[0m26387419E-\u001b[1;36m07\u001b[0m    # Fv_3\n",
       "        \u001b[1;36m112\u001b[0m    \u001b[1;36m2.\u001b[0m04809117E+\u001b[1;36m03\u001b[0m    # Fv_4\n",
       "        \u001b[1;36m114\u001b[0m    \u001b[1;36m2.\u001b[0m04809117E+\u001b[1;36m03\u001b[0m    # Fv_5\n",
       "        \u001b[1;36m116\u001b[0m    \u001b[1;36m2.\u001b[0m04809117E+\u001b[1;36m03\u001b[0m    # Fv_6\n",
       "    \u001b[1;36m1000021\u001b[0m    \u001b[1;36m7.\u001b[0m21791481E+\u001b[1;36m03\u001b[0m    # Glu\n",
       "    \u001b[1;36m1000024\u001b[0m    \u001b[1;36m2.\u001b[0m94096092E+\u001b[1;36m03\u001b[0m    # Cha_1\n",
       "    \u001b[1;36m1000037\u001b[0m    \u001b[1;36m3.\u001b[0m10865206E+\u001b[1;36m03\u001b[0m    # Cha_2\n",
       "         \u001b[1;36m31\u001b[0m    \u001b[1;36m2.\u001b[0m53928450E+\u001b[1;36m03\u001b[0m    # VZp\n",
       "    \u001b[1;36m1000022\u001b[0m    \u001b[1;36m1.\u001b[0m00668692E+\u001b[1;36m03\u001b[0m    # Chi_1\n",
       "    \u001b[1;36m1000023\u001b[0m    \u001b[1;36m1.\u001b[0m29663125E+\u001b[1;36m03\u001b[0m    # Chi_2\n",
       "    \u001b[1;36m1000025\u001b[0m    \u001b[1;36m1.\u001b[0m72603799E+\u001b[1;36m03\u001b[0m    # Chi_3\n",
       "    \u001b[1;36m1000035\u001b[0m    \u001b[1;36m2.\u001b[0m94153947E+\u001b[1;36m03\u001b[0m    # Chi_4\n",
       "    \u001b[1;36m1000032\u001b[0m    \u001b[1;36m3.\u001b[0m08694588E+\u001b[1;36m03\u001b[0m    # Chi_5\n",
       "    \u001b[1;36m1000036\u001b[0m    \u001b[1;36m3.\u001b[0m10881255E+\u001b[1;36m03\u001b[0m    # Chi_6\n",
       "    \u001b[1;36m1000039\u001b[0m    \u001b[1;36m3.\u001b[0m81000710E+\u001b[1;36m03\u001b[0m    # Chi_7\n",
       "\n"
      ]
     },
     "metadata": {},
     "output_type": "display_data"
    }
   ],
   "source": [
    "print(slha['Mass'])"
   ]
  },
  {
   "cell_type": "markdown",
   "id": "4b0d4e98",
   "metadata": {},
   "source": [
    "#### HiggsBounds and HiggsSignals results as Dictionaries "
   ]
  },
  {
   "cell_type": "code",
   "execution_count": 52,
   "id": "f010b7e2",
   "metadata": {},
   "outputs": [
    {
     "data": {
      "text/html": [
       "<pre style=\"white-space:pre;overflow-x:auto;line-height:normal;font-family:Menlo,'DejaVu Sans Mono',consolas,'Courier New',monospace\"><span style=\"font-weight: bold\">{</span>\n",
       "    <span style=\"color: #008000; text-decoration-color: #008000\">'n'</span>: <span style=\"color: #008080; text-decoration-color: #008080; font-weight: bold\">1.0</span>,\n",
       "    <span style=\"color: #008000; text-decoration-color: #008000\">'Mh(1)'</span>: <span style=\"color: #008080; text-decoration-color: #008080; font-weight: bold\">120.131</span>,\n",
       "    <span style=\"color: #008000; text-decoration-color: #008000\">'Mh(2)'</span>: <span style=\"color: #008080; text-decoration-color: #008080; font-weight: bold\">170.914</span>,\n",
       "    <span style=\"color: #008000; text-decoration-color: #008000\">'Mh(3)'</span>: <span style=\"color: #008080; text-decoration-color: #008080; font-weight: bold\">3531.67</span>,\n",
       "    <span style=\"color: #008000; text-decoration-color: #008000\">'Mh(4)'</span>: <span style=\"color: #008080; text-decoration-color: #008080; font-weight: bold\">3853.74</span>,\n",
       "    <span style=\"color: #008000; text-decoration-color: #008000\">'Mh(5)'</span>: <span style=\"color: #008080; text-decoration-color: #008080; font-weight: bold\">2964.61</span>,\n",
       "    <span style=\"color: #008000; text-decoration-color: #008000\">'Mh(6)'</span>: <span style=\"color: #008080; text-decoration-color: #008080; font-weight: bold\">3531.66</span>,\n",
       "    <span style=\"color: #008000; text-decoration-color: #008000\">'Mhplus(1)'</span>: <span style=\"color: #008080; text-decoration-color: #008080; font-weight: bold\">3529.18</span>,\n",
       "    <span style=\"color: #008000; text-decoration-color: #008000\">'HBresult'</span>: <span style=\"color: #008080; text-decoration-color: #008080; font-weight: bold\">0.0</span>,\n",
       "    <span style=\"color: #008000; text-decoration-color: #008000\">'chan'</span>: <span style=\"color: #008080; text-decoration-color: #008080; font-weight: bold\">911.0</span>,\n",
       "    <span style=\"color: #008000; text-decoration-color: #008000\">'obsratio'</span>: <span style=\"color: #008080; text-decoration-color: #008080; font-weight: bold\">1.21552</span>,\n",
       "    <span style=\"color: #008000; text-decoration-color: #008000\">'ncomb'</span>: <span style=\"color: #008080; text-decoration-color: #008080; font-weight: bold\">1.0</span>\n",
       "<span style=\"font-weight: bold\">}</span>\n",
       "</pre>\n"
      ],
      "text/plain": [
       "\u001b[1m{\u001b[0m\n",
       "    \u001b[32m'n'\u001b[0m: \u001b[1;36m1.0\u001b[0m,\n",
       "    \u001b[32m'Mh\u001b[0m\u001b[32m(\u001b[0m\u001b[32m1\u001b[0m\u001b[32m)\u001b[0m\u001b[32m'\u001b[0m: \u001b[1;36m120.131\u001b[0m,\n",
       "    \u001b[32m'Mh\u001b[0m\u001b[32m(\u001b[0m\u001b[32m2\u001b[0m\u001b[32m)\u001b[0m\u001b[32m'\u001b[0m: \u001b[1;36m170.914\u001b[0m,\n",
       "    \u001b[32m'Mh\u001b[0m\u001b[32m(\u001b[0m\u001b[32m3\u001b[0m\u001b[32m)\u001b[0m\u001b[32m'\u001b[0m: \u001b[1;36m3531.67\u001b[0m,\n",
       "    \u001b[32m'Mh\u001b[0m\u001b[32m(\u001b[0m\u001b[32m4\u001b[0m\u001b[32m)\u001b[0m\u001b[32m'\u001b[0m: \u001b[1;36m3853.74\u001b[0m,\n",
       "    \u001b[32m'Mh\u001b[0m\u001b[32m(\u001b[0m\u001b[32m5\u001b[0m\u001b[32m)\u001b[0m\u001b[32m'\u001b[0m: \u001b[1;36m2964.61\u001b[0m,\n",
       "    \u001b[32m'Mh\u001b[0m\u001b[32m(\u001b[0m\u001b[32m6\u001b[0m\u001b[32m)\u001b[0m\u001b[32m'\u001b[0m: \u001b[1;36m3531.66\u001b[0m,\n",
       "    \u001b[32m'Mhplus\u001b[0m\u001b[32m(\u001b[0m\u001b[32m1\u001b[0m\u001b[32m)\u001b[0m\u001b[32m'\u001b[0m: \u001b[1;36m3529.18\u001b[0m,\n",
       "    \u001b[32m'HBresult'\u001b[0m: \u001b[1;36m0.0\u001b[0m,\n",
       "    \u001b[32m'chan'\u001b[0m: \u001b[1;36m911.0\u001b[0m,\n",
       "    \u001b[32m'obsratio'\u001b[0m: \u001b[1;36m1.21552\u001b[0m,\n",
       "    \u001b[32m'ncomb'\u001b[0m: \u001b[1;36m1.0\u001b[0m\n",
       "\u001b[1m}\u001b[0m\n"
      ]
     },
     "metadata": {},
     "output_type": "display_data"
    },
    {
     "data": {
      "text/html": [
       "<pre style=\"white-space:pre;overflow-x:auto;line-height:normal;font-family:Menlo,'DejaVu Sans Mono',consolas,'Courier New',monospace\"><span style=\"font-weight: bold\">{</span>\n",
       "    <span style=\"color: #008000; text-decoration-color: #008000\">'n'</span>: <span style=\"color: #008080; text-decoration-color: #008080; font-weight: bold\">1.0</span>,\n",
       "    <span style=\"color: #008000; text-decoration-color: #008000\">'Mh(1)'</span>: <span style=\"color: #008080; text-decoration-color: #008080; font-weight: bold\">120.131</span>,\n",
       "    <span style=\"color: #008000; text-decoration-color: #008000\">'Mh(2)'</span>: <span style=\"color: #008080; text-decoration-color: #008080; font-weight: bold\">170.914</span>,\n",
       "    <span style=\"color: #008000; text-decoration-color: #008000\">'Mh(3)'</span>: <span style=\"color: #008080; text-decoration-color: #008080; font-weight: bold\">3531.67</span>,\n",
       "    <span style=\"color: #008000; text-decoration-color: #008000\">'Mh(4)'</span>: <span style=\"color: #008080; text-decoration-color: #008080; font-weight: bold\">3853.74</span>,\n",
       "    <span style=\"color: #008000; text-decoration-color: #008000\">'Mh(5)'</span>: <span style=\"color: #008080; text-decoration-color: #008080; font-weight: bold\">2964.61</span>,\n",
       "    <span style=\"color: #008000; text-decoration-color: #008000\">'Mh(6)'</span>: <span style=\"color: #008080; text-decoration-color: #008080; font-weight: bold\">3531.66</span>,\n",
       "    <span style=\"color: #008000; text-decoration-color: #008000\">'Mhplus(1)'</span>: <span style=\"color: #008080; text-decoration-color: #008080; font-weight: bold\">3529.18</span>,\n",
       "    <span style=\"color: #008000; text-decoration-color: #008000\">'csq(mu)'</span>: <span style=\"color: #008080; text-decoration-color: #008080; font-weight: bold\">628.657</span>,\n",
       "    <span style=\"color: #008000; text-decoration-color: #008000\">'csq(mh)'</span>: <span style=\"color: #008080; text-decoration-color: #008080; font-weight: bold\">7.39342e-22</span>,\n",
       "    <span style=\"color: #008000; text-decoration-color: #008000\">'csq(tot)'</span>: <span style=\"color: #008080; text-decoration-color: #008080; font-weight: bold\">628.657</span>,\n",
       "    <span style=\"color: #008000; text-decoration-color: #008000\">'nobs(mu)'</span>: <span style=\"color: #008080; text-decoration-color: #008080; font-weight: bold\">110.0</span>,\n",
       "    <span style=\"color: #008000; text-decoration-color: #008000\">'nobs(mh)'</span>: <span style=\"color: #008080; text-decoration-color: #008080; font-weight: bold\">1.0</span>,\n",
       "    <span style=\"color: #008000; text-decoration-color: #008000\">'nobs(tot)'</span>: <span style=\"color: #008080; text-decoration-color: #008080; font-weight: bold\">111.0</span>,\n",
       "    <span style=\"color: #008000; text-decoration-color: #008000\">'Pvalue'</span>: <span style=\"color: #008080; text-decoration-color: #008080; font-weight: bold\">0.0</span>\n",
       "<span style=\"font-weight: bold\">}</span>\n",
       "</pre>\n"
      ],
      "text/plain": [
       "\u001b[1m{\u001b[0m\n",
       "    \u001b[32m'n'\u001b[0m: \u001b[1;36m1.0\u001b[0m,\n",
       "    \u001b[32m'Mh\u001b[0m\u001b[32m(\u001b[0m\u001b[32m1\u001b[0m\u001b[32m)\u001b[0m\u001b[32m'\u001b[0m: \u001b[1;36m120.131\u001b[0m,\n",
       "    \u001b[32m'Mh\u001b[0m\u001b[32m(\u001b[0m\u001b[32m2\u001b[0m\u001b[32m)\u001b[0m\u001b[32m'\u001b[0m: \u001b[1;36m170.914\u001b[0m,\n",
       "    \u001b[32m'Mh\u001b[0m\u001b[32m(\u001b[0m\u001b[32m3\u001b[0m\u001b[32m)\u001b[0m\u001b[32m'\u001b[0m: \u001b[1;36m3531.67\u001b[0m,\n",
       "    \u001b[32m'Mh\u001b[0m\u001b[32m(\u001b[0m\u001b[32m4\u001b[0m\u001b[32m)\u001b[0m\u001b[32m'\u001b[0m: \u001b[1;36m3853.74\u001b[0m,\n",
       "    \u001b[32m'Mh\u001b[0m\u001b[32m(\u001b[0m\u001b[32m5\u001b[0m\u001b[32m)\u001b[0m\u001b[32m'\u001b[0m: \u001b[1;36m2964.61\u001b[0m,\n",
       "    \u001b[32m'Mh\u001b[0m\u001b[32m(\u001b[0m\u001b[32m6\u001b[0m\u001b[32m)\u001b[0m\u001b[32m'\u001b[0m: \u001b[1;36m3531.66\u001b[0m,\n",
       "    \u001b[32m'Mhplus\u001b[0m\u001b[32m(\u001b[0m\u001b[32m1\u001b[0m\u001b[32m)\u001b[0m\u001b[32m'\u001b[0m: \u001b[1;36m3529.18\u001b[0m,\n",
       "    \u001b[32m'csq\u001b[0m\u001b[32m(\u001b[0m\u001b[32mmu\u001b[0m\u001b[32m)\u001b[0m\u001b[32m'\u001b[0m: \u001b[1;36m628.657\u001b[0m,\n",
       "    \u001b[32m'csq\u001b[0m\u001b[32m(\u001b[0m\u001b[32mmh\u001b[0m\u001b[32m)\u001b[0m\u001b[32m'\u001b[0m: \u001b[1;36m7.39342e-22\u001b[0m,\n",
       "    \u001b[32m'csq\u001b[0m\u001b[32m(\u001b[0m\u001b[32mtot\u001b[0m\u001b[32m)\u001b[0m\u001b[32m'\u001b[0m: \u001b[1;36m628.657\u001b[0m,\n",
       "    \u001b[32m'nobs\u001b[0m\u001b[32m(\u001b[0m\u001b[32mmu\u001b[0m\u001b[32m)\u001b[0m\u001b[32m'\u001b[0m: \u001b[1;36m110.0\u001b[0m,\n",
       "    \u001b[32m'nobs\u001b[0m\u001b[32m(\u001b[0m\u001b[32mmh\u001b[0m\u001b[32m)\u001b[0m\u001b[32m'\u001b[0m: \u001b[1;36m1.0\u001b[0m,\n",
       "    \u001b[32m'nobs\u001b[0m\u001b[32m(\u001b[0m\u001b[32mtot\u001b[0m\u001b[32m)\u001b[0m\u001b[32m'\u001b[0m: \u001b[1;36m111.0\u001b[0m,\n",
       "    \u001b[32m'Pvalue'\u001b[0m: \u001b[1;36m0.0\u001b[0m\n",
       "\u001b[1m}\u001b[0m\n"
      ]
     },
     "metadata": {},
     "output_type": "display_data"
    }
   ],
   "source": [
    "print(hbr)\n",
    "print(hsr)"
   ]
  },
  {
   "cell_type": "markdown",
   "id": "adb3cf91",
   "metadata": {},
   "source": [
    "# Querying "
   ]
  },
  {
   "cell_type": "code",
   "execution_count": 33,
   "id": "d5877dab",
   "metadata": {},
   "outputs": [
    {
     "data": {
      "text/plain": [
       "BLOCK     MASS   # MASS SPECTRUM\n",
       "    1000001    5.99117543E+03    # Sd_1\n",
       "    1000003    6.02178014E+03    # Sd_2\n",
       "    1000005    6.16062150E+03    # Sd_3\n",
       "    2000001    6.16067683E+03    # Sd_4\n",
       "    2000003    6.48792059E+03    # Sd_5\n",
       "    2000005    6.48805283E+03    # Sd_6\n",
       "    1000002    5.28343189E+03    # Su_1\n",
       "    1000004    6.00997712E+03    # Su_2\n",
       "    1000006    6.17275648E+03    # Su_3\n",
       "    2000002    6.17277068E+03    # Su_4\n",
       "    2000004    6.48742478E+03    # Su_5\n",
       "    2000006    6.48755743E+03    # Su_6\n",
       "    1000011    1.32515358E+03    # Se_1\n",
       "    1000013    1.51564489E+03    # Se_2\n",
       "    1000015    1.51628427E+03    # Se_3\n",
       "    2000011    2.50199893E+03    # Se_4\n",
       "    2000013    2.55473094E+03    # Se_5\n",
       "    2000015    2.55491814E+03    # Se_6\n",
       "    1000012    1.52363209E+03    # SvRe_1\n",
       "    1000014    1.52363209E+03    # SvRe_2\n",
       "    1000016    1.52363209E+03    # SvRe_3\n",
       "    2000012    2.49921859E+03    # SvRe_4\n",
       "    2000014    2.55308587E+03    # SvRe_5\n",
       "    2000016    2.55327727E+03    # SvRe_6\n",
       "    4000012    2.41201327E+03    # SvIm_1\n",
       "    4000014    2.41201327E+03    # SvIm_2\n",
       "    4000016    2.41201327E+03    # SvIm_3\n",
       "    5000012    2.49921859E+03    # SvIm_4\n",
       "    5000014    2.55308587E+03    # SvIm_5\n",
       "    5000016    2.55327727E+03    # SvIm_6\n",
       "         25    1.20131013E+02    # hh_1\n",
       "         35    1.70914294E+02    # hh_2\n",
       "    9900025    3.53167276E+03    # hh_3\n",
       "    9900035    3.85373818E+03    # hh_4\n",
       "         36    2.96460762E+03    # Ah_3\n",
       "    9900036    3.53165791E+03    # Ah_4\n",
       "         37    3.52917661E+03    # Hpm_2\n",
       "         22    0.00000000E+00    # VP\n",
       "         23    9.11887000E+01    # VZ\n",
       "         21    0.00000000E+00    # VG\n",
       "         24    8.03616186E+01    # VWm\n",
       "          1    5.00000000E-03    # Fd_1\n",
       "          3    9.50000000E-02    # Fd_2\n",
       "          5    4.18000000E+00    # Fd_3\n",
       "          2    2.50000000E-03    # Fu_1\n",
       "          4    1.27000000E+00    # Fu_2\n",
       "          6    1.73500000E+02    # Fu_3\n",
       "         11    5.10998930E-04    # Fe_1\n",
       "         13    1.05658372E-01    # Fe_2\n",
       "         15    1.77669000E+00    # Fe_3\n",
       "         12    1.26083277E-07    # Fv_1\n",
       "         14    1.26386387E-07    # Fv_2\n",
       "         16    1.26387419E-07    # Fv_3\n",
       "        112    2.04809117E+03    # Fv_4\n",
       "        114    2.04809117E+03    # Fv_5\n",
       "        116    2.04809117E+03    # Fv_6\n",
       "    1000021    7.21791481E+03    # Glu\n",
       "    1000024    2.94096092E+03    # Cha_1\n",
       "    1000037    3.10865206E+03    # Cha_2\n",
       "         31    2.53928450E+03    # VZp\n",
       "    1000022    1.00668692E+03    # Chi_1\n",
       "    1000023    1.29663125E+03    # Chi_2\n",
       "    1000025    1.72603799E+03    # Chi_3\n",
       "    1000035    2.94153947E+03    # Chi_4\n",
       "    1000032    3.08694588E+03    # Chi_5\n",
       "    1000036    3.10881255E+03    # Chi_6\n",
       "    1000039    3.81000710E+03    # Chi_7"
      ]
     },
     "execution_count": 33,
     "metadata": {},
     "output_type": "execute_result"
    }
   ],
   "source": [
    "slha['MASS']"
   ]
  },
  {
   "cell_type": "code",
   "execution_count": 34,
   "id": "d7d11b00",
   "metadata": {},
   "outputs": [
    {
     "data": {
      "text/plain": [
       "120.131013"
      ]
     },
     "execution_count": 34,
     "metadata": {},
     "output_type": "execute_result"
    }
   ],
   "source": [
    "slha['MASS'][25]"
   ]
  },
  {
   "cell_type": "code",
   "execution_count": 35,
   "id": "5f8eac4b",
   "metadata": {},
   "outputs": [
    {
     "data": {
      "text/plain": [
       "DECAY         25     3.21590487E-03    # HH_1\n",
       "#    BR                NDA      ID1      ID2   ... \n",
       "     2.44856968E-03    2           22         22    # BR(hh_1 -> VP VP )\n",
       "     8.80776731E-02    2           21         21    # BR(hh_1 -> VG VG )\n",
       "     1.30807790E-02    2           23         23    # BR(hh_1 -> VZ VZ )\n",
       "     1.41770707E-01    2           24        -24    # BR(hh_1 -> VWm^* VWm_virt )\n",
       "     2.42288224E-04    2           -3          3    # BR(hh_1 -> Fd_2^* Fd_2 )\n",
       "     6.48814271E-01    2           -5          5    # BR(hh_1 -> Fd_3^* Fd_3 )\n",
       "     2.59082666E-04    2          -13         13    # BR(hh_1 -> Fe_2^* Fe_2 )\n",
       "     7.47769957E-02    2          -15         15    # BR(hh_1 -> Fe_3^* Fe_3 )\n",
       "     3.05288251E-02    2           -4          4    # BR(hh_1 -> Fu_2^* Fu_2 )"
      ]
     },
     "execution_count": 35,
     "metadata": {},
     "output_type": "execute_result"
    }
   ],
   "source": [
    "slha['Decay 25']"
   ]
  },
  {
   "cell_type": "code",
   "execution_count": 36,
   "id": "c00f7d8f",
   "metadata": {},
   "outputs": [
    {
     "data": {
      "text/plain": [
       "0.00244856968"
      ]
     },
     "execution_count": 36,
     "metadata": {},
     "output_type": "execute_result"
    }
   ],
   "source": [
    "slha['Decay 25'][2,22,22]"
   ]
  },
  {
   "cell_type": "code",
   "execution_count": 37,
   "id": "1df0eb60",
   "metadata": {},
   "outputs": [
    {
     "data": {
      "text/plain": [
       "'# BR(hh_1 -> VP VP )'"
      ]
     },
     "execution_count": 37,
     "metadata": {},
     "output_type": "execute_result"
    }
   ],
   "source": [
    "slha['Decay 25'].get((2,22,22), request='comment')"
   ]
  },
  {
   "cell_type": "markdown",
   "id": "8c1c15e8",
   "metadata": {},
   "source": [
    "# LesHouches File"
   ]
  },
  {
   "cell_type": "code",
   "execution_count": 1,
   "id": "17c39105",
   "metadata": {},
   "outputs": [],
   "source": [
    "from hepaid.hepread import LesHouches, SLHA\n",
    "from hepaid.utils import lhs2dict\n",
    "lhs = LesHouches(\n",
    "    'LesHouches.in.Step',\n",
    "    work_dir = '.',\n",
    "    model = 'BLSSM'\n",
    "    )"
   ]
  },
  {
   "cell_type": "code",
   "execution_count": 4,
   "id": "eb97eef9",
   "metadata": {},
   "outputs": [
    {
     "data": {
      "text/plain": [
       "['MODSEL',\n",
       " 'SMINPUTS',\n",
       " 'MINPAR',\n",
       " 'EXTPAR',\n",
       " 'SPHENOINPUT',\n",
       " 'DECAYOPTIONS',\n",
       " 'YXIN',\n",
       " 'YVIN']"
      ]
     },
     "execution_count": 4,
     "metadata": {},
     "output_type": "execute_result"
    }
   ],
   "source": [
    "lhs.block_list"
   ]
  },
  {
   "cell_type": "code",
   "execution_count": 117,
   "id": "9d119410",
   "metadata": {},
   "outputs": [
    {
     "data": {
      "text/plain": [
       "Block MINPAR   # INPUT PARAMETERS\n",
       "1      6.284835E+02        # m0         \n",
       "2      2.459861E+03        # m12        \n",
       "3      4.403085E+01        # TanBeta    \n",
       "4      1.00000000E+00      # SignumMu   \n",
       "5      2.657310E+03        # Azero      \n",
       "6      1.00000000E+00      # SignumMuP  \n",
       "7      1.15000000E+00      # TBetaP     \n",
       "8      2.50000000E+03      # MZp        "
      ]
     },
     "execution_count": 117,
     "metadata": {},
     "output_type": "execute_result"
    }
   ],
   "source": [
    "lhs['MINPAR']"
   ]
  },
  {
   "cell_type": "code",
   "execution_count": 118,
   "id": "b4603f58",
   "metadata": {},
   "outputs": [],
   "source": [
    "lhs['MINPAR'][1] = 45"
   ]
  },
  {
   "cell_type": "code",
   "execution_count": 119,
   "id": "8623d31e",
   "metadata": {},
   "outputs": [
    {
     "data": {
      "text/plain": [
       "Block MINPAR   # INPUT PARAMETERS\n",
       "1      4.500000E+01        # m0         \n",
       "2      2.459861E+03        # m12        \n",
       "3      4.403085E+01        # TanBeta    \n",
       "4      1.00000000E+00      # SignumMu   \n",
       "5      2.657310E+03        # Azero      \n",
       "6      1.00000000E+00      # SignumMuP  \n",
       "7      1.15000000E+00      # TBetaP     \n",
       "8      2.50000000E+03      # MZp        "
      ]
     },
     "execution_count": 119,
     "metadata": {},
     "output_type": "execute_result"
    }
   ],
   "source": [
    "lhs['MINPAR']"
   ]
  },
  {
   "cell_type": "code",
   "execution_count": 38,
   "id": "c3cbcbd4",
   "metadata": {},
   "outputs": [],
   "source": [
    "lhs.new_file('test_2')"
   ]
  },
  {
   "cell_type": "code",
   "execution_count": 2,
   "id": "8ccaec89",
   "metadata": {},
   "outputs": [
    {
     "data": {
      "text/plain": [
       "dict_keys(['MODSEL', 'SMINPUTS', 'MINPAR', 'EXTPAR', 'SPHENOINPUT', 'DECAYOPTIONS', 'YXIN', 'YVIN'])"
      ]
     },
     "execution_count": 2,
     "metadata": {},
     "output_type": "execute_result"
    }
   ],
   "source": [
    "lhs_dict = lhs2dict(lhs)\n",
    "lhs_dict.keys()"
   ]
  },
  {
   "cell_type": "code",
   "execution_count": 4,
   "id": "a27ad1da",
   "metadata": {},
   "outputs": [
    {
     "data": {
      "text/plain": [
       "{'block_name': 'YVIN',\n",
       " 'comment': '#',\n",
       " 'values': {'value': [0.0001, 0.0, 0.0, 0.0, 0.0001, 0.0, 0.0, 0.0, 0.0001],\n",
       "  'entries': [[1, 1],\n",
       "   [1, 2],\n",
       "   [1, 3],\n",
       "   [2, 1],\n",
       "   [2, 2],\n",
       "   [2, 3],\n",
       "   [3, 1],\n",
       "   [3, 2],\n",
       "   [3, 3]],\n",
       "  'comment': ['# Yv(1,1)',\n",
       "   '# Yv(1,2)',\n",
       "   '# Yv(1,3)',\n",
       "   '# Yv(2,1)',\n",
       "   '# Yv(2,2)',\n",
       "   '# Yv(2,3)',\n",
       "   '# Yv(3,1)',\n",
       "   '# Yv(3,2)',\n",
       "   '# Yv(3,3)']}}"
      ]
     },
     "execution_count": 4,
     "metadata": {},
     "output_type": "execute_result"
    }
   ],
   "source": [
    "lhs_dict['YVIN']"
   ]
  },
  {
   "cell_type": "markdown",
   "id": "42b429f4",
   "metadata": {},
   "source": [
    "# Creating data set just with SLHA files"
   ]
  },
  {
   "cell_type": "code",
   "execution_count": 10,
   "id": "0d89848a",
   "metadata": {},
   "outputs": [],
   "source": [
    "from hepaid.utils import merge_slha_files\n",
    "from hepaid.utils import hepstack_dict\n",
    "from hepaid.utils import merge_hepstacks"
   ]
  },
  {
   "cell_type": "markdown",
   "id": "4d0d5305",
   "metadata": {},
   "source": [
    "Save as in the previous section"
   ]
  },
  {
   "cell_type": "code",
   "execution_count": 11,
   "id": "118341b8",
   "metadata": {},
   "outputs": [
    {
     "data": {
      "text/html": [
       "<pre style=\"white-space:pre;overflow-x:auto;line-height:normal;font-family:Menlo,'DejaVu Sans Mono',consolas,'Courier New',monospace\"><span style=\"color: #800080; text-decoration-color: #800080; font-weight: bold\">dict_keys</span><span style=\"font-weight: bold\">([</span><span style=\"color: #008000; text-decoration-color: #008000\">'0'</span>, <span style=\"color: #008000; text-decoration-color: #008000\">'1'</span>, <span style=\"color: #008000; text-decoration-color: #008000\">'2'</span>, <span style=\"color: #008000; text-decoration-color: #008000\">'3'</span><span style=\"font-weight: bold\">])</span>\n",
       "</pre>\n"
      ],
      "text/plain": [
       "\u001b[1;35mdict_keys\u001b[0m\u001b[1m(\u001b[0m\u001b[1m[\u001b[0m\u001b[32m'0'\u001b[0m, \u001b[32m'1'\u001b[0m, \u001b[32m'2'\u001b[0m, \u001b[32m'3'\u001b[0m\u001b[1m]\u001b[0m\u001b[1m)\u001b[0m\n"
      ]
     },
     "metadata": {},
     "output_type": "display_data"
    }
   ],
   "source": [
    "slha_dict = slha.as_dict()\n",
    "slha_list = [slha_dict]*4\n",
    "dataset = merge_slha_files(slha_list)\n",
    "print(dataset.keys())"
   ]
  },
  {
   "cell_type": "code",
   "execution_count": 11,
   "id": "5c99f8c5",
   "metadata": {},
   "outputs": [],
   "source": [
    "from hepaid.utils import dict2json\n",
    "from hepaid.utils import json2dict"
   ]
  },
  {
   "cell_type": "code",
   "execution_count": 12,
   "id": "18b4ef45",
   "metadata": {},
   "outputs": [],
   "source": [
    "dict2json(dataset, 'dataset')"
   ]
  },
  {
   "cell_type": "code",
   "execution_count": 13,
   "id": "27d71c15",
   "metadata": {},
   "outputs": [],
   "source": [
    "del dataset\n",
    "dataset = json2dict('dataset')"
   ]
  },
  {
   "cell_type": "code",
   "execution_count": 14,
   "id": "234851c6",
   "metadata": {},
   "outputs": [
    {
     "data": {
      "text/plain": [
       "dict_keys(['0', '1', '2', '3'])"
      ]
     },
     "execution_count": 14,
     "metadata": {},
     "output_type": "execute_result"
    }
   ],
   "source": [
    "dataset.keys()"
   ]
  },
  {
   "cell_type": "code",
   "execution_count": 15,
   "id": "76528f0b",
   "metadata": {},
   "outputs": [
    {
     "data": {
      "text/plain": [
       "dict_keys(['4', '5', '6', '7'])"
      ]
     },
     "execution_count": 15,
     "metadata": {},
     "output_type": "execute_result"
    }
   ],
   "source": [
    "import numpy as np\n",
    "\n",
    "idxs = np.fromiter(dataset.keys(),dtype=int)\n",
    "first_idx = idxs.max() +1 \n",
    "new_dataset = merge_slha_files(slha_list, first_idx)\n",
    "new_dataset.keys()"
   ]
  },
  {
   "cell_type": "code",
   "execution_count": 16,
   "id": "f2765e4e",
   "metadata": {},
   "outputs": [],
   "source": [
    "from hepaid.utils import merge_datasets"
   ]
  },
  {
   "cell_type": "code",
   "execution_count": 17,
   "id": "a9badc4c",
   "metadata": {},
   "outputs": [],
   "source": [
    "big_dataset = merge_datasets(new_dataset,dataset)"
   ]
  },
  {
   "cell_type": "code",
   "execution_count": 18,
   "id": "13deb545",
   "metadata": {},
   "outputs": [
    {
     "data": {
      "text/plain": [
       "dict_keys(['0', '1', '2', '3', '4', '5', '6', '7'])"
      ]
     },
     "execution_count": 18,
     "metadata": {},
     "output_type": "execute_result"
    }
   ],
   "source": [
    "big_dataset.keys()"
   ]
  },
  {
   "cell_type": "markdown",
   "id": "8f10b783",
   "metadata": {},
   "source": [
    "# Creating data set with HEP Stack\n",
    "### SLHA, HiggsBounds, HiggsSignals"
   ]
  },
  {
   "cell_type": "code",
   "execution_count": 87,
   "id": "bc80595c",
   "metadata": {},
   "outputs": [
    {
     "data": {
      "text/html": [
       "<pre style=\"white-space:pre;overflow-x:auto;line-height:normal;font-family:Menlo,'DejaVu Sans Mono',consolas,'Courier New',monospace\"><span style=\"font-weight: bold\">{</span>\n",
       "    <span style=\"color: #008000; text-decoration-color: #008000\">'n'</span>: <span style=\"color: #008080; text-decoration-color: #008080; font-weight: bold\">1.0</span>,\n",
       "    <span style=\"color: #008000; text-decoration-color: #008000\">'Mh(1)'</span>: <span style=\"color: #008080; text-decoration-color: #008080; font-weight: bold\">120.131</span>,\n",
       "    <span style=\"color: #008000; text-decoration-color: #008000\">'Mh(2)'</span>: <span style=\"color: #008080; text-decoration-color: #008080; font-weight: bold\">170.914</span>,\n",
       "    <span style=\"color: #008000; text-decoration-color: #008000\">'Mh(3)'</span>: <span style=\"color: #008080; text-decoration-color: #008080; font-weight: bold\">3531.67</span>,\n",
       "    <span style=\"color: #008000; text-decoration-color: #008000\">'Mh(4)'</span>: <span style=\"color: #008080; text-decoration-color: #008080; font-weight: bold\">3853.74</span>,\n",
       "    <span style=\"color: #008000; text-decoration-color: #008000\">'Mh(5)'</span>: <span style=\"color: #008080; text-decoration-color: #008080; font-weight: bold\">2964.61</span>,\n",
       "    <span style=\"color: #008000; text-decoration-color: #008000\">'Mh(6)'</span>: <span style=\"color: #008080; text-decoration-color: #008080; font-weight: bold\">3531.66</span>,\n",
       "    <span style=\"color: #008000; text-decoration-color: #008000\">'Mhplus(1)'</span>: <span style=\"color: #008080; text-decoration-color: #008080; font-weight: bold\">3529.18</span>,\n",
       "    <span style=\"color: #008000; text-decoration-color: #008000\">'csq(mu)'</span>: <span style=\"color: #008080; text-decoration-color: #008080; font-weight: bold\">628.657</span>,\n",
       "    <span style=\"color: #008000; text-decoration-color: #008000\">'csq(mh)'</span>: <span style=\"color: #008080; text-decoration-color: #008080; font-weight: bold\">7.39342e-22</span>,\n",
       "    <span style=\"color: #008000; text-decoration-color: #008000\">'csq(tot)'</span>: <span style=\"color: #008080; text-decoration-color: #008080; font-weight: bold\">628.657</span>,\n",
       "    <span style=\"color: #008000; text-decoration-color: #008000\">'nobs(mu)'</span>: <span style=\"color: #008080; text-decoration-color: #008080; font-weight: bold\">110.0</span>,\n",
       "    <span style=\"color: #008000; text-decoration-color: #008000\">'nobs(mh)'</span>: <span style=\"color: #008080; text-decoration-color: #008080; font-weight: bold\">1.0</span>,\n",
       "    <span style=\"color: #008000; text-decoration-color: #008000\">'nobs(tot)'</span>: <span style=\"color: #008080; text-decoration-color: #008080; font-weight: bold\">111.0</span>,\n",
       "    <span style=\"color: #008000; text-decoration-color: #008000\">'Pvalue'</span>: <span style=\"color: #008080; text-decoration-color: #008080; font-weight: bold\">0.0</span>\n",
       "<span style=\"font-weight: bold\">}</span>\n",
       "</pre>\n"
      ],
      "text/plain": [
       "\u001b[1m{\u001b[0m\n",
       "    \u001b[32m'n'\u001b[0m: \u001b[1;36m1.0\u001b[0m,\n",
       "    \u001b[32m'Mh\u001b[0m\u001b[32m(\u001b[0m\u001b[32m1\u001b[0m\u001b[32m)\u001b[0m\u001b[32m'\u001b[0m: \u001b[1;36m120.131\u001b[0m,\n",
       "    \u001b[32m'Mh\u001b[0m\u001b[32m(\u001b[0m\u001b[32m2\u001b[0m\u001b[32m)\u001b[0m\u001b[32m'\u001b[0m: \u001b[1;36m170.914\u001b[0m,\n",
       "    \u001b[32m'Mh\u001b[0m\u001b[32m(\u001b[0m\u001b[32m3\u001b[0m\u001b[32m)\u001b[0m\u001b[32m'\u001b[0m: \u001b[1;36m3531.67\u001b[0m,\n",
       "    \u001b[32m'Mh\u001b[0m\u001b[32m(\u001b[0m\u001b[32m4\u001b[0m\u001b[32m)\u001b[0m\u001b[32m'\u001b[0m: \u001b[1;36m3853.74\u001b[0m,\n",
       "    \u001b[32m'Mh\u001b[0m\u001b[32m(\u001b[0m\u001b[32m5\u001b[0m\u001b[32m)\u001b[0m\u001b[32m'\u001b[0m: \u001b[1;36m2964.61\u001b[0m,\n",
       "    \u001b[32m'Mh\u001b[0m\u001b[32m(\u001b[0m\u001b[32m6\u001b[0m\u001b[32m)\u001b[0m\u001b[32m'\u001b[0m: \u001b[1;36m3531.66\u001b[0m,\n",
       "    \u001b[32m'Mhplus\u001b[0m\u001b[32m(\u001b[0m\u001b[32m1\u001b[0m\u001b[32m)\u001b[0m\u001b[32m'\u001b[0m: \u001b[1;36m3529.18\u001b[0m,\n",
       "    \u001b[32m'csq\u001b[0m\u001b[32m(\u001b[0m\u001b[32mmu\u001b[0m\u001b[32m)\u001b[0m\u001b[32m'\u001b[0m: \u001b[1;36m628.657\u001b[0m,\n",
       "    \u001b[32m'csq\u001b[0m\u001b[32m(\u001b[0m\u001b[32mmh\u001b[0m\u001b[32m)\u001b[0m\u001b[32m'\u001b[0m: \u001b[1;36m7.39342e-22\u001b[0m,\n",
       "    \u001b[32m'csq\u001b[0m\u001b[32m(\u001b[0m\u001b[32mtot\u001b[0m\u001b[32m)\u001b[0m\u001b[32m'\u001b[0m: \u001b[1;36m628.657\u001b[0m,\n",
       "    \u001b[32m'nobs\u001b[0m\u001b[32m(\u001b[0m\u001b[32mmu\u001b[0m\u001b[32m)\u001b[0m\u001b[32m'\u001b[0m: \u001b[1;36m110.0\u001b[0m,\n",
       "    \u001b[32m'nobs\u001b[0m\u001b[32m(\u001b[0m\u001b[32mmh\u001b[0m\u001b[32m)\u001b[0m\u001b[32m'\u001b[0m: \u001b[1;36m1.0\u001b[0m,\n",
       "    \u001b[32m'nobs\u001b[0m\u001b[32m(\u001b[0m\u001b[32mtot\u001b[0m\u001b[32m)\u001b[0m\u001b[32m'\u001b[0m: \u001b[1;36m111.0\u001b[0m,\n",
       "    \u001b[32m'Pvalue'\u001b[0m: \u001b[1;36m0.0\u001b[0m\n",
       "\u001b[1m}\u001b[0m\n"
      ]
     },
     "metadata": {},
     "output_type": "display_data"
    }
   ],
   "source": [
    "slha_dict = slha.as_dict()\n",
    "hepstack = hepstack_dict(slha_dict, hbr, hsr)\n",
    "print(hepstack['HiggsSignals'])"
   ]
  },
  {
   "cell_type": "code",
   "execution_count": 54,
   "id": "b787f187",
   "metadata": {},
   "outputs": [
    {
     "data": {
      "text/html": [
       "<pre style=\"white-space:pre;overflow-x:auto;line-height:normal;font-family:Menlo,'DejaVu Sans Mono',consolas,'Courier New',monospace\"><span style=\"color: #800080; text-decoration-color: #800080; font-weight: bold\">dict_keys</span><span style=\"font-weight: bold\">([</span><span style=\"color: #008000; text-decoration-color: #008000\">'0'</span>, <span style=\"color: #008000; text-decoration-color: #008000\">'1'</span>, <span style=\"color: #008000; text-decoration-color: #008000\">'2'</span>, <span style=\"color: #008000; text-decoration-color: #008000\">'3'</span><span style=\"font-weight: bold\">])</span>\n",
       "</pre>\n"
      ],
      "text/plain": [
       "\u001b[1;35mdict_keys\u001b[0m\u001b[1m(\u001b[0m\u001b[1m[\u001b[0m\u001b[32m'0'\u001b[0m, \u001b[32m'1'\u001b[0m, \u001b[32m'2'\u001b[0m, \u001b[32m'3'\u001b[0m\u001b[1m]\u001b[0m\u001b[1m)\u001b[0m\n"
      ]
     },
     "metadata": {},
     "output_type": "display_data"
    }
   ],
   "source": [
    "hepstack_list = [hepstack]*4\n",
    "dataset = merge_hepstacks(hepstack_list)\n",
    "print(dataset.keys())"
   ]
  }
 ],
 "metadata": {
  "kernelspec": {
   "display_name": "Python [conda env:.conda-rrlib] *",
   "language": "python",
   "name": "conda-env-.conda-rrlib-py"
  },
  "language_info": {
   "codemirror_mode": {
    "name": "ipython",
    "version": 3
   },
   "file_extension": ".py",
   "mimetype": "text/x-python",
   "name": "python",
   "nbconvert_exporter": "python",
   "pygments_lexer": "ipython3",
   "version": "3.8.12"
  }
 },
 "nbformat": 4,
 "nbformat_minor": 5
}
